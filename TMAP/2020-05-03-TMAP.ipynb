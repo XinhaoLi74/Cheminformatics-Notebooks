{
 "cells": [
  {
   "cell_type": "markdown",
   "metadata": {},
   "source": [
    "## 1. What is TMAP?\n",
    "\n",
    "TMAP is a really cool interactive visualization for big data. Examples can be found [here](http://tmap.gdb.tools/#ex-coil).\n",
    "\n",
    "Tree MAP (TMAP) is an algorithm developed by Dr. [Probst](https://twitter.com/skepteis) for [visualization of very large high-dimensional data sets as minimum spanning trees](https://jcheminf.biomedcentral.com/articles/10.1186/s13321-020-0416-x).\n",
    "\n",
    "> Visualizations based on TMAP are better suited than t‑SNE or UMAP for the exploration and interpretation of large data sets due to their tree‑like nature, increased local and global neighborhood and structure preservation, and the transparency of the methods the algorithm is based on.\n",
    "\n",
    "<blockquote class=\"twitter-tweet\"><p lang=\"en\" dir=\"ltr\">A map of all approved, illicit, and experimental drugs.<br><br>A fully interactive Faerun visualization of <a href=\"https://twitter.com/DrugBankDB?ref_src=twsrc%5Etfw\">@DrugBankDB</a> embedded using TMAP from 2²³ dimensional MHFP space. This combines 4 projects I have been working on so far during my PhD.<br><br>Check it out here: <a href=\"https://t.co/lSUhjIMfn1\">https://t.co/lSUhjIMfn1</a> <a href=\"https://t.co/0wBbDPOzJO\">pic.twitter.com/0wBbDPOzJO</a></p>&mdash; Daniel Probst (@skepteis) <a href=\"https://twitter.com/skepteis/status/1175064262869487617?ref_src=twsrc%5Etfw\">September 20, 2019</a></blockquote> <script async src=\"https://platform.twitter.com/widgets.js\" charset=\"utf-8\"></script>\n",
    "\n",
    "The four projects mentioned are:\n",
    "1. [A probabilistic molecular fingerprint for big data settings](https://jcheminf.biomedcentral.com/articles/10.1186/s13321-018-0321-8)\n",
    "2. [SmilesDrawer: parsing and drawing SMILES‑encoded molecular structures using client‑side JavaScript](https://pubs.acs.org/doi/10.1021/acs.jcim.7b00425)\n",
    "3. [FUn: a framework for interactive visualizations of large, high-dimensional datasets on the web](https://academic.oup.com/bioinformatics/article/34/8/1433/4657075)\n",
    "4. [Visualization of very large high-dimensional data sets as minimum spanning trees](https://jcheminf.biomedcentral.com/articles/10.1186/s13321-020-0416-x)\n",
    "\n",
    "## 2. How it works?\n",
    "\n",
    "TMAP consists of 4 phases:\n",
    "- [LSH forest](http://infolab.stanford.edu/~bawa/Pub/similarity.pdf) indexing\n",
    "- Construction of a c-approximate k-nearest neighbor graph\n",
    "- Calculation of a minimum spanning tree ([MST](https://en.wikipedia.org/wiki/Minimum_spanning_tree)) of the c-approximate k-nearest neighbor graph\n",
    "- Generation of a graph layout for the resulting MST\n",
    "\n",
    "The first two steps are designed for big data setting and can be replaced by other k-nearest neighbor algorithms. In the resulting graph, the nodes are molecules (or other entities) and the edges are weighted by the distances between nodes. In the 3rd step, a tree is basicly a graph wihch doest not contrain cycle. A [MST](https://en.wikipedia.org/wiki/Minimum_spanning_tree) is the tree has the minimum sum of edge weights. The MST is ready for visualization. In the last step, we choose a layout to visualize the MST."
   ]
  },
  {
   "cell_type": "markdown",
   "metadata": {},
   "source": [
    "## 2. Code Walkthrough\n",
    "\n",
    "### Packages\n",
    "\n",
    "Installation of (1) RDKit (2) [TMAP](http://tmap.gdb.tools/) (3) [MHFP](https://github.com/reymond-group/mhfp) and (4) [Faerun](https://github.com/reymond-group/faerun-python).\n",
    "\n",
    "```\n",
    "conda install -c rdkit rdkit\n",
    "conda install -c tmap tmap\n",
    "pip install mhfp\n",
    "pip install faerun\n",
    "```"
   ]
  },
  {
   "cell_type": "code",
   "execution_count": 1,
   "metadata": {},
   "outputs": [],
   "source": [
    "import pandas as pd\n",
    "import tmap\n",
    "from faerun import Faerun\n",
    "from mhfp.encoder import MHFPEncoder\n",
    "from rdkit.Chem import AllChem"
   ]
  },
  {
   "cell_type": "markdown",
   "metadata": {},
   "source": [
    "### Data\n",
    "\n",
    "Here we use ESOL dataset includes 1117 molecules."
   ]
  },
  {
   "cell_type": "code",
   "execution_count": 2,
   "metadata": {},
   "outputs": [
    {
     "data": {
      "text/plain": [
       "(1117, 2)"
      ]
     },
     "execution_count": 2,
     "metadata": {},
     "output_type": "execute_result"
    }
   ],
   "source": [
    "url = 'https://raw.githubusercontent.com/XinhaoLi74/molds/master/clean_data/ESOL.csv'\n",
    "\n",
    "df = pd.read_csv(url)\n",
    "df.shape"
   ]
  },
  {
   "cell_type": "code",
   "execution_count": 3,
   "metadata": {},
   "outputs": [
    {
     "data": {
      "text/html": [
       "<div>\n",
       "<style scoped>\n",
       "    .dataframe tbody tr th:only-of-type {\n",
       "        vertical-align: middle;\n",
       "    }\n",
       "\n",
       "    .dataframe tbody tr th {\n",
       "        vertical-align: top;\n",
       "    }\n",
       "\n",
       "    .dataframe thead th {\n",
       "        text-align: right;\n",
       "    }\n",
       "</style>\n",
       "<table border=\"1\" class=\"dataframe\">\n",
       "  <thead>\n",
       "    <tr style=\"text-align: right;\">\n",
       "      <th></th>\n",
       "      <th>smiles</th>\n",
       "      <th>logSolubility</th>\n",
       "    </tr>\n",
       "  </thead>\n",
       "  <tbody>\n",
       "    <tr>\n",
       "      <th>0</th>\n",
       "      <td>N#CC(OC1OC(COC2OC(CO)C(O)C(O)C2O)C(O)C(O)C1O)c...</td>\n",
       "      <td>-0.77</td>\n",
       "    </tr>\n",
       "  </tbody>\n",
       "</table>\n",
       "</div>"
      ],
      "text/plain": [
       "                                              smiles  logSolubility\n",
       "0  N#CC(OC1OC(COC2OC(CO)C(O)C(O)C2O)C(O)C(O)C1O)c...          -0.77"
      ]
     },
     "execution_count": 3,
     "metadata": {},
     "output_type": "execute_result"
    }
   ],
   "source": [
    "df.head(1)"
   ]
  },
  {
   "cell_type": "markdown",
   "metadata": {},
   "source": [
    "### Step 1: Compute descriptors\n",
    "\n",
    "[MHFP6](https://github.com/reymond-group/mhfp) \n",
    "> MHFP6 (MinHash fingerprint, up to six bonds) is a molecular fingerprint which encodes detailed substructures using the extended connectivity principle of ECFP in a fundamentally different manner, increasing the performance of exact nearest neighbor searches in benchmarking studies and enabling the application of locality sensitive hashing (LSH) approximate nearest neighbor search algorithms. "
   ]
  },
  {
   "cell_type": "code",
   "execution_count": 4,
   "metadata": {},
   "outputs": [],
   "source": [
    "# The number of permutations used by the MinHashing algorithm\n",
    "perm = 512\n",
    "\n",
    "# Initializing the MHFP encoder with 512 permutations\n",
    "enc = MHFPEncoder(perm)\n",
    "\n",
    "# Create MHFP fingerprints from SMILES\n",
    "# The fingerprint vectors have to be of the tm.VectorUint data type\n",
    "fingerprints = [tmap.VectorUint(enc.encode(s)) for s in df[\"smiles\"]]"
   ]
  },
  {
   "cell_type": "markdown",
   "metadata": {},
   "source": [
    "Data types for TMAP: `VectorUnit` and `VectorFloat`"
   ]
  },
  {
   "cell_type": "markdown",
   "metadata": {},
   "source": [
    "### Step 2: LSH indexing and coordinates generation"
   ]
  },
  {
   "cell_type": "code",
   "execution_count": 5,
   "metadata": {},
   "outputs": [],
   "source": [
    "# Initialize the LSH Forest\n",
    "lf = tmap.LSHForest(perm)\n",
    "\n",
    "# Add the Fingerprints to the LSH Forest and index\n",
    "lf.batch_add(fingerprints)\n",
    "lf.index()"
   ]
  },
  {
   "cell_type": "code",
   "execution_count": 6,
   "metadata": {},
   "outputs": [],
   "source": [
    "# Get the coordinates\n",
    "x, y, s, t, _ = tmap.layout_from_lsh_forest(lf)"
   ]
  },
  {
   "cell_type": "markdown",
   "metadata": {},
   "source": [
    "`x` and `y` are the coordinates of the nodes.  `s` and `t` store the indexes of start nodes and to nodes in the MST, respectively. "
   ]
  },
  {
   "cell_type": "markdown",
   "metadata": {},
   "source": [
    "### Step 3: Plotting"
   ]
  },
  {
   "cell_type": "code",
   "execution_count": 7,
   "metadata": {},
   "outputs": [
    {
     "data": {
      "text/html": [
       "\n",
       "        <iframe\n",
       "            width=\"100%\"\n",
       "            height=\"750\"\n",
       "            src=\"./ESOL_Basic.html\"\n",
       "            frameborder=\"0\"\n",
       "            allowfullscreen\n",
       "        ></iframe>\n",
       "        "
      ],
      "text/plain": [
       "<IPython.lib.display.IFrame at 0x7fb86be71e80>"
      ]
     },
     "metadata": {},
     "output_type": "display_data"
    },
    {
     "data": {
      "text/html": [
       "<a href='./ESOL_Basic.html' target='_blank'>./ESOL_Basic.html</a><br>"
      ],
      "text/plain": [
       "/home/xinhao/xli74@ncsu.edu/Github_repo/Cheminformatics-Notebooks/TMAP/ESOL_Basic.html"
      ]
     },
     "metadata": {},
     "output_type": "display_data"
    }
   ],
   "source": [
    "# Now plot the data\n",
    "faerun = Faerun(view=\"front\", coords=False)\n",
    "faerun.add_scatter(\n",
    "    \"ESOL_Basic\",\n",
    "    {   \"x\": x, \n",
    "        \"y\": y, \n",
    "        \"c\": list(df.logSolubility.values), \n",
    "        \"labels\": df[\"smiles\"]},\n",
    "    point_scale=5,\n",
    "    colormap = ['rainbow'],\n",
    "    has_legend=True,\n",
    "    legend_title = ['ESOL (mol/L)'],\n",
    "    categorical=[False],\n",
    "    shader = 'smoothCircle'\n",
    ")\n",
    "\n",
    "faerun.add_tree(\"ESOL_Basic_tree\", {\"from\": s, \"to\": t}, point_helper=\"ESOL_Basic\")\n",
    "\n",
    "# Choose the \"smiles\" template to display structure on hover\n",
    "faerun.plot('ESOL_Basic', template=\"smiles\", notebook_height=750)"
   ]
  },
  {
   "cell_type": "markdown",
   "metadata": {},
   "source": [
    "## 3. Advances"
   ]
  },
  {
   "cell_type": "markdown",
   "metadata": {},
   "source": [
    "### 3.1. Add more legends\n",
    "\n",
    "Sometime we want to plot multiple labels for a single dataset. There are two types of lables, continues and categorical.  The type of labels need to explicitly assign to the `categorical` in `faerun.add_scatter`.\n",
    "\n",
    "We compute two categorical labels: (1) the `number of rings` (2) Linear molecules (`is_linear`): `0` if numrings > 1 and `1` if numrings = 0. "
   ]
  },
  {
   "cell_type": "code",
   "execution_count": 8,
   "metadata": {},
   "outputs": [
    {
     "data": {
      "text/plain": [
       "{0, 1, 2, 3, 4, 5, 6, 7, 8}"
      ]
     },
     "execution_count": 8,
     "metadata": {},
     "output_type": "execute_result"
    }
   ],
   "source": [
    "from rdkit.Chem import rdMolDescriptors\n",
    "from rdkit import Chem\n",
    "numrings = [rdMolDescriptors.CalcNumRings(Chem.MolFromSmiles(s)) for s in df[\"smiles\"]]\n",
    "set(numrings)"
   ]
  },
  {
   "cell_type": "code",
   "execution_count": 9,
   "metadata": {},
   "outputs": [],
   "source": [
    "is_linear = [1 if r == 0 else 0 for r in numrings]"
   ]
  },
  {
   "cell_type": "markdown",
   "metadata": {},
   "source": [
    "The molecules in ESOL datast contains rings from 0 to 8. Now we are going to plot three labels. We need to change setting in `faerun.add_scatter`, information of multiple labels are passed as lists."
   ]
  },
  {
   "cell_type": "code",
   "execution_count": 10,
   "metadata": {},
   "outputs": [
    {
     "data": {
      "text/html": [
       "\n",
       "        <iframe\n",
       "            width=\"100%\"\n",
       "            height=\"750\"\n",
       "            src=\"./ESOL.html\"\n",
       "            frameborder=\"0\"\n",
       "            allowfullscreen\n",
       "        ></iframe>\n",
       "        "
      ],
      "text/plain": [
       "<IPython.lib.display.IFrame at 0x7fb86854d0f0>"
      ]
     },
     "metadata": {},
     "output_type": "display_data"
    },
    {
     "data": {
      "text/html": [
       "<a href='./ESOL.html' target='_blank'>./ESOL.html</a><br>"
      ],
      "text/plain": [
       "/home/xinhao/xli74@ncsu.edu/Github_repo/Cheminformatics-Notebooks/TMAP/ESOL.html"
      ]
     },
     "metadata": {},
     "output_type": "display_data"
    }
   ],
   "source": [
    "# Now plot the data\n",
    "faerun = Faerun(view=\"front\", coords=False)\n",
    "faerun.add_scatter(\n",
    "    \"ESOL\",\n",
    "    {   \"x\": x, \n",
    "        \"y\": y, \n",
    "        \"c\": [list(df.logSolubility.values), numrings, is_linear], \n",
    "        \"labels\": df[\"smiles\"]},\n",
    "    point_scale=5,\n",
    "    colormap = ['rainbow', 'Set1'],\n",
    "    has_legend=True,\n",
    "    categorical=[False, True, True],\n",
    "    series_title = ['ESOL (mol/L)', 'Rings', 'is_linear'],\n",
    "    legend_labels = [None, None, [(0, \"No\"), (1, \"Yes\")]],\n",
    "    shader = 'smoothCircle'\n",
    ")\n",
    "\n",
    "faerun.add_tree(\"ESOL_tree\", {\"from\": s, \"to\": t}, point_helper=\"ESOL\")\n",
    "\n",
    "# Choose the \"smiles\" template to display structure on hover\n",
    "faerun.plot('ESOL', template=\"smiles\", notebook_height=750)"
   ]
  },
  {
   "cell_type": "markdown",
   "metadata": {},
   "source": [
    "## 3.2. Use different descriptors/fingerprints\n",
    "\n",
    "We can also use other descriptors/fingerprints. The descriptors/fingerprints need to be converted to [Minhash vectors](http://tmap.gdb.tools/#tmap.Minhash) first. It supports binary, indexed, string and also int and float weighted vectors as input and returns a list of Minhash vectors (List of `VectorUint`)\n",
    "\n",
    "Methods for different types of input: \n",
    "\n",
    "`batch_from_binary_array`. MinHash vectors from **binary** arrays. The input vectors need to be a list of `VectorUchar`.\n",
    "\n",
    "`batch_from_int_weight_array`. Create MinHash vectors from **integer** arrays (not only zeros and ones). The input vectors need to be a list of `VectorUint`.\n",
    "\n",
    "`batch_from_sparse_binary_array`. Create MinHash vectors from **sparse binary** arrays. The input vectors need to be a list of `VectorUint`  – A list of vectors containing indices of ones in a binary array.\n",
    "\n",
    "`batch_from_string_array`. Create MinHash vectors from **string** arrays. The input vector is a list of `list` or `string`.\n",
    "\n",
    "`batch_from_weight_array`. Create MinHash vectors from **float** arrays. The input vectors need to be a list of `VectorFloat`. – A list of vectors containing float values. **Keyword Arguments**: **method** (str) – The weighted hashing method to use (`ICWS` (default) or `I2CWS`).\n"
   ]
  },
  {
   "cell_type": "markdown",
   "metadata": {},
   "source": [
    "Let's try ECFP4 (binary)."
   ]
  },
  {
   "cell_type": "code",
   "execution_count": 11,
   "metadata": {},
   "outputs": [],
   "source": [
    "bits = 1024\n",
    "\n",
    "mols = [Chem.MolFromSmiles(s) for s in df['smiles']]\n",
    "ECFP4_fps = [AllChem.GetMorganFingerprintAsBitVect(x,2,bits) for x in mols]\n",
    "ecfp4_lists = [tmap.VectorUchar(list(fp)) for fp in ECFP4_fps]"
   ]
  },
  {
   "cell_type": "code",
   "execution_count": 12,
   "metadata": {},
   "outputs": [],
   "source": [
    "# Initialize the Minhash\n",
    "enc = tmap.Minhash(bits)\n",
    "\n",
    "# Initialize the LSH Forest\n",
    "lf_ecfp4 = tmap.LSHForest(bits)\n",
    "\n",
    "# Add the Fingerprints to the LSH Forest and index\n",
    "lf_ecfp4.batch_add(enc.batch_from_binary_array(ecfp4_lists))\n",
    "lf_ecfp4.index()"
   ]
  },
  {
   "cell_type": "code",
   "execution_count": 13,
   "metadata": {},
   "outputs": [],
   "source": [
    "x, y, s, t, _ = tmap.layout_from_lsh_forest(lf_ecfp4)"
   ]
  },
  {
   "cell_type": "code",
   "execution_count": 14,
   "metadata": {},
   "outputs": [
    {
     "data": {
      "text/html": [
       "\n",
       "        <iframe\n",
       "            width=\"100%\"\n",
       "            height=\"750\"\n",
       "            src=\"./ESOL_ECFP4.html\"\n",
       "            frameborder=\"0\"\n",
       "            allowfullscreen\n",
       "        ></iframe>\n",
       "        "
      ],
      "text/plain": [
       "<IPython.lib.display.IFrame at 0x7fb868517160>"
      ]
     },
     "metadata": {},
     "output_type": "display_data"
    },
    {
     "data": {
      "text/html": [
       "<a href='./ESOL_ECFP4.html' target='_blank'>./ESOL_ECFP4.html</a><br>"
      ],
      "text/plain": [
       "/home/xinhao/xli74@ncsu.edu/Github_repo/Cheminformatics-Notebooks/TMAP/ESOL_ECFP4.html"
      ]
     },
     "metadata": {},
     "output_type": "display_data"
    }
   ],
   "source": [
    "# Now plot the data\n",
    "faerun = Faerun(view=\"front\", coords=False)\n",
    "faerun.add_scatter(\n",
    "    \"ESOL_ECFP4\",\n",
    "    {   \"x\": x, \n",
    "        \"y\": y, \n",
    "        \"c\": [list(df.logSolubility.values), numrings, is_linear], \n",
    "        \"labels\": df[\"smiles\"]},\n",
    "    point_scale=5,\n",
    "    colormap = ['rainbow', 'Set1'],\n",
    "    has_legend=True,\n",
    "    categorical=[False, True, True],\n",
    "    series_title = ['ESOL (mol/L)', 'Rings', 'is_linear'],\n",
    "    legend_labels = [None, None, [(0, \"No\"), (1, \"Yes\")]],\n",
    "    shader = 'smoothCircle'\n",
    ")\n",
    "\n",
    "faerun.add_tree(\"ESOL_ECFP4_tree\", {\"from\": s, \"to\": t}, point_helper=\"ESOL_ECFP4\")\n",
    "\n",
    "# Choose the \"smiles\" template to display structure on hover\n",
    "faerun.plot(\"ESOL_ECFP4\",template=\"smiles\", notebook_height=750)"
   ]
  }
 ],
 "metadata": {
  "kernelspec": {
   "display_name": "Python 3",
   "language": "python",
   "name": "python3"
  },
  "language_info": {
   "codemirror_mode": {
    "name": "ipython",
    "version": 3
   },
   "file_extension": ".py",
   "mimetype": "text/x-python",
   "name": "python",
   "nbconvert_exporter": "python",
   "pygments_lexer": "ipython3",
   "version": "3.6.7"
  }
 },
 "nbformat": 4,
 "nbformat_minor": 4
}
