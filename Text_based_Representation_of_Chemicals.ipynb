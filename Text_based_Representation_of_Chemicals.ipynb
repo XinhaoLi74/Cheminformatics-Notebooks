{
  "nbformat": 4,
  "nbformat_minor": 0,
  "metadata": {
    "colab": {
      "name": "Text-based_Representation_of_Chemicals.ipynb",
      "provenance": [],
      "authorship_tag": "ABX9TyPxhlBZjFYK+Ocy0qAgXOAt",
      "include_colab_link": true
    },
    "kernelspec": {
      "name": "python3",
      "display_name": "Python 3"
    }
  },
  "cells": [
    {
      "cell_type": "markdown",
      "metadata": {
        "id": "view-in-github",
        "colab_type": "text"
      },
      "source": [
        "<a href=\"https://colab.research.google.com/github/XinhaoLi74/Cheminformatics-Notebooks/blob/master/Text_based_Representation_of_Chemicals.ipynb\" target=\"_parent\"><img src=\"https://colab.research.google.com/assets/colab-badge.svg\" alt=\"Open In Colab\"/></a>"
      ]
    },
    {
      "cell_type": "markdown",
      "metadata": {
        "id": "lYr7PuP-9CZt",
        "colab_type": "text"
      },
      "source": [
        "In a recent [review](https://www.sciencedirect.com/science/article/pii/S1359644620300465?via%3Dihub) *Exploring chemical space using natural language processing methodologies for drug discovery*, Öztürk et.al. outlined the impact made by the advnaces in natural language processing (NLP) methodologies on drug discovery. "
      ]
    },
    {
      "cell_type": "code",
      "metadata": {
        "id": "2b4Xdb6V-f6g",
        "colab_type": "code",
        "colab": {}
      },
      "source": [
        ""
      ],
      "execution_count": 0,
      "outputs": []
    }
  ]
}