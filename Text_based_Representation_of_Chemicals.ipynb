{
  "nbformat": 4,
  "nbformat_minor": 0,
  "metadata": {
    "colab": {
      "name": "Text-based_Representation_of_Chemicals.ipynb",
      "provenance": [],
      "authorship_tag": "ABX9TyNtn+TFnftfBfDiZURkV8wo",
      "include_colab_link": true
    },
    "kernelspec": {
      "name": "python3",
      "display_name": "Python 3"
    }
  },
  "cells": [
    {
      "cell_type": "markdown",
      "metadata": {
        "id": "view-in-github",
        "colab_type": "text"
      },
      "source": [
        "<a href=\"https://colab.research.google.com/github/XinhaoLi74/Cheminformatics-Notebooks/blob/master/Text_based_Representation_of_Chemicals.ipynb\" target=\"_parent\"><img src=\"https://colab.research.google.com/assets/colab-badge.svg\" alt=\"Open In Colab\"/></a>"
      ]
    },
    {
      "cell_type": "markdown",
      "metadata": {
        "id": "lYr7PuP-9CZt",
        "colab_type": "text"
      },
      "source": [
        "# Test-Based Representation of Chemicals\n"
      ]
    },
    {
      "cell_type": "markdown",
      "metadata": {
        "id": "LllE6FrGSgMJ",
        "colab_type": "text"
      },
      "source": [
        "In a recent [review](https://www.sciencedirect.com/science/article/pii/S1359644620300465?via%3Dihub) *Exploring chemical space using natural language processing methodologies for drug discovery*, Öztürk et.al. outlined the impact made by the advnaces in natural language processing (NLP) methodologies on drug discovery. Here is an Python implemtation of the tokenization methods discussed in the review.\n"
      ]
    },
    {
      "cell_type": "markdown",
      "metadata": {
        "id": "Bx3diZw8BBjF",
        "colab_type": "text"
      },
      "source": [
        "## Requirements\n",
        "\n",
        "- Conda (RDKit only supports conda install)\n",
        "- RDKit \n",
        "- SELFIES [[arXiv](https://arxiv.org/abs/1905.13741)] [[Github](https://github.com/aspuru-guzik-group/selfies)]\n",
        "- Huggingfase tokenizer [[Github](https://github.com/huggingface/tokenizers/tree/master/bindings/python)]"
      ]
    },
    {
      "cell_type": "code",
      "metadata": {
        "id": "tE5MIN8P_ne_",
        "colab_type": "code",
        "colab": {
          "base_uri": "https://localhost:8080/",
          "height": 1000
        },
        "outputId": "34c66244-48f1-4410-ed85-f446c28d52c9"
      },
      "source": [
        "# install conda\n",
        "!wget -c https://repo.continuum.io/miniconda/Miniconda3-latest-Linux-x86_64.sh\n",
        "!chmod +x Miniconda3-latest-Linux-x86_64.sh\n",
        "!time bash ./Miniconda3-latest-Linux-x86_64.sh -b -f -p /usr/local\n",
        "\n",
        "import sys\n",
        "sys.path.append('/usr/local/lib/python3.7/site-packages/')"
      ],
      "execution_count": 1,
      "outputs": [
        {
          "output_type": "stream",
          "text": [
            "--2020-02-23 17:12:57--  https://repo.continuum.io/miniconda/Miniconda3-latest-Linux-x86_64.sh\n",
            "Resolving repo.continuum.io (repo.continuum.io)... 104.18.201.79, 104.18.200.79, 2606:4700::6812:c84f, ...\n",
            "Connecting to repo.continuum.io (repo.continuum.io)|104.18.201.79|:443... connected.\n",
            "HTTP request sent, awaiting response... 200 OK\n",
            "Length: 71785000 (68M) [application/x-sh]\n",
            "Saving to: ‘Miniconda3-latest-Linux-x86_64.sh’\n",
            "\n",
            "Miniconda3-latest-L 100%[===================>]  68.46M   189MB/s    in 0.4s    \n",
            "\n",
            "2020-02-23 17:13:03 (189 MB/s) - ‘Miniconda3-latest-Linux-x86_64.sh’ saved [71785000/71785000]\n",
            "\n",
            "PREFIX=/usr/local\n",
            "Unpacking payload ...\n",
            "Collecting package metadata (current_repodata.json): - \b\b\\ \b\bdone\n",
            "Solving environment: / \b\bdone\n",
            "\n",
            "## Package Plan ##\n",
            "\n",
            "  environment location: /usr/local\n",
            "\n",
            "  added / updated specs:\n",
            "    - _libgcc_mutex==0.1=main\n",
            "    - asn1crypto==1.2.0=py37_0\n",
            "    - ca-certificates==2019.10.16=0\n",
            "    - certifi==2019.9.11=py37_0\n",
            "    - cffi==1.13.0=py37h2e261b9_0\n",
            "    - chardet==3.0.4=py37_1003\n",
            "    - conda-package-handling==1.6.0=py37h7b6447c_0\n",
            "    - conda==4.7.12=py37_0\n",
            "    - cryptography==2.8=py37h1ba5d50_0\n",
            "    - idna==2.8=py37_0\n",
            "    - libedit==3.1.20181209=hc058e9b_0\n",
            "    - libffi==3.2.1=hd88cf55_4\n",
            "    - libgcc-ng==9.1.0=hdf63c60_0\n",
            "    - libstdcxx-ng==9.1.0=hdf63c60_0\n",
            "    - ncurses==6.1=he6710b0_1\n",
            "    - openssl==1.1.1d=h7b6447c_3\n",
            "    - pip==19.3.1=py37_0\n",
            "    - pycosat==0.6.3=py37h14c3975_0\n",
            "    - pycparser==2.19=py37_0\n",
            "    - pyopenssl==19.0.0=py37_0\n",
            "    - pysocks==1.7.1=py37_0\n",
            "    - python==3.7.4=h265db76_1\n",
            "    - readline==7.0=h7b6447c_5\n",
            "    - requests==2.22.0=py37_0\n",
            "    - ruamel_yaml==0.15.46=py37h14c3975_0\n",
            "    - setuptools==41.4.0=py37_0\n",
            "    - six==1.12.0=py37_0\n",
            "    - sqlite==3.30.0=h7b6447c_0\n",
            "    - tk==8.6.8=hbc83047_0\n",
            "    - tqdm==4.36.1=py_0\n",
            "    - urllib3==1.24.2=py37_0\n",
            "    - wheel==0.33.6=py37_0\n",
            "    - xz==5.2.4=h14c3975_4\n",
            "    - yaml==0.1.7=had09818_2\n",
            "    - zlib==1.2.11=h7b6447c_3\n",
            "\n",
            "\n",
            "The following NEW packages will be INSTALLED:\n",
            "\n",
            "  _libgcc_mutex      pkgs/main/linux-64::_libgcc_mutex-0.1-main\n",
            "  asn1crypto         pkgs/main/linux-64::asn1crypto-1.2.0-py37_0\n",
            "  ca-certificates    pkgs/main/linux-64::ca-certificates-2019.10.16-0\n",
            "  certifi            pkgs/main/linux-64::certifi-2019.9.11-py37_0\n",
            "  cffi               pkgs/main/linux-64::cffi-1.13.0-py37h2e261b9_0\n",
            "  chardet            pkgs/main/linux-64::chardet-3.0.4-py37_1003\n",
            "  conda              pkgs/main/linux-64::conda-4.7.12-py37_0\n",
            "  conda-package-han~ pkgs/main/linux-64::conda-package-handling-1.6.0-py37h7b6447c_0\n",
            "  cryptography       pkgs/main/linux-64::cryptography-2.8-py37h1ba5d50_0\n",
            "  idna               pkgs/main/linux-64::idna-2.8-py37_0\n",
            "  libedit            pkgs/main/linux-64::libedit-3.1.20181209-hc058e9b_0\n",
            "  libffi             pkgs/main/linux-64::libffi-3.2.1-hd88cf55_4\n",
            "  libgcc-ng          pkgs/main/linux-64::libgcc-ng-9.1.0-hdf63c60_0\n",
            "  libstdcxx-ng       pkgs/main/linux-64::libstdcxx-ng-9.1.0-hdf63c60_0\n",
            "  ncurses            pkgs/main/linux-64::ncurses-6.1-he6710b0_1\n",
            "  openssl            pkgs/main/linux-64::openssl-1.1.1d-h7b6447c_3\n",
            "  pip                pkgs/main/linux-64::pip-19.3.1-py37_0\n",
            "  pycosat            pkgs/main/linux-64::pycosat-0.6.3-py37h14c3975_0\n",
            "  pycparser          pkgs/main/linux-64::pycparser-2.19-py37_0\n",
            "  pyopenssl          pkgs/main/linux-64::pyopenssl-19.0.0-py37_0\n",
            "  pysocks            pkgs/main/linux-64::pysocks-1.7.1-py37_0\n",
            "  python             pkgs/main/linux-64::python-3.7.4-h265db76_1\n",
            "  readline           pkgs/main/linux-64::readline-7.0-h7b6447c_5\n",
            "  requests           pkgs/main/linux-64::requests-2.22.0-py37_0\n",
            "  ruamel_yaml        pkgs/main/linux-64::ruamel_yaml-0.15.46-py37h14c3975_0\n",
            "  setuptools         pkgs/main/linux-64::setuptools-41.4.0-py37_0\n",
            "  six                pkgs/main/linux-64::six-1.12.0-py37_0\n",
            "  sqlite             pkgs/main/linux-64::sqlite-3.30.0-h7b6447c_0\n",
            "  tk                 pkgs/main/linux-64::tk-8.6.8-hbc83047_0\n",
            "  tqdm               pkgs/main/noarch::tqdm-4.36.1-py_0\n",
            "  urllib3            pkgs/main/linux-64::urllib3-1.24.2-py37_0\n",
            "  wheel              pkgs/main/linux-64::wheel-0.33.6-py37_0\n",
            "  xz                 pkgs/main/linux-64::xz-5.2.4-h14c3975_4\n",
            "  yaml               pkgs/main/linux-64::yaml-0.1.7-had09818_2\n",
            "  zlib               pkgs/main/linux-64::zlib-1.2.11-h7b6447c_3\n",
            "\n",
            "\n",
            "Preparing transaction: \\ \b\b| \b\b/ \b\b- \b\bdone\n",
            "Executing transaction: | \b\b/ \b\b- \b\b\\ \b\b| \b\b/ \b\b- \b\b\\ \b\b| \b\b/ \b\bdone\n",
            "installation finished.\n",
            "WARNING:\n",
            "    You currently have a PYTHONPATH environment variable set. This may cause\n",
            "    unexpected behavior when running the Python interpreter in Miniconda3.\n",
            "    For best results, please verify that your PYTHONPATH only points to\n",
            "    directories of packages that are compatible with the Python interpreter\n",
            "    in Miniconda3: /usr/local\n",
            "\n",
            "real\t0m18.852s\n",
            "user\t0m9.146s\n",
            "sys\t0m3.605s\n"
          ],
          "name": "stdout"
        }
      ]
    },
    {
      "cell_type": "code",
      "metadata": {
        "id": "sOJpN8wzCm0U",
        "colab_type": "code",
        "colab": {
          "base_uri": "https://localhost:8080/",
          "height": 1000
        },
        "outputId": "8c31006b-9a9c-4e34-d6de-a08cb5389def"
      },
      "source": [
        "# install rdkit\n",
        "!conda install -c rdkit rdkit --yes"
      ],
      "execution_count": 2,
      "outputs": [
        {
          "output_type": "stream",
          "text": [
            "Collecting package metadata (current_repodata.json): - \b\b\\ \b\b| \b\b/ \b\b- \b\b\\ \b\b| \b\b/ \b\b- \b\b\\ \b\b| \b\b/ \b\b- \b\b\\ \b\b| \b\b/ \b\b- \b\bdone\n",
            "Solving environment: | \b\b/ \b\b- \b\b\\ \b\b| \b\b/ \b\b- \b\b\\ \b\b| \b\bfailed with initial frozen solve. Retrying with flexible solve.\n",
            "Solving environment: - \b\b\\ \b\b| \b\b/ \b\b- \b\b\\ \b\b| \b\b/ \b\b- \b\b\\ \b\b| \b\bfailed with repodata from current_repodata.json, will retry with next repodata source.\n",
            "Collecting package metadata (repodata.json): - \b\b\\ \b\b| \b\b/ \b\b- \b\b\\ \b\b| \b\b/ \b\b- \b\b\\ \b\b| \b\b/ \b\b- \b\b\\ \b\b| \b\b/ \b\b- \b\b\\ \b\b| \b\b/ \b\b- \b\b\\ \b\b| \b\b/ \b\b- \b\b\\ \b\b| \b\b/ \b\b- \b\b\\ \b\b| \b\b/ \b\b- \b\b\\ \b\b| \b\b/ \b\bdone\n",
            "Solving environment: \\ \b\b| \b\b/ \b\b- \b\b\\ \b\b| \b\b/ \b\b- \b\b\\ \b\b| \b\b/ \b\b- \b\b\\ \b\b| \b\b/ \b\b- \b\b\\ \b\b| \b\b/ \b\b- \b\b\\ \b\b| \b\b/ \b\b- \b\b\\ \b\b| \b\b/ \b\b- \b\b\\ \b\b| \b\b/ \b\b- \b\b\\ \b\b| \b\b/ \b\b- \b\bdone\n",
            "\n",
            "## Package Plan ##\n",
            "\n",
            "  environment location: /usr/local\n",
            "\n",
            "  added / updated specs:\n",
            "    - rdkit\n",
            "\n",
            "\n",
            "The following packages will be downloaded:\n",
            "\n",
            "    package                    |            build\n",
            "    ---------------------------|-----------------\n",
            "    blas-1.0                   |              mkl           6 KB\n",
            "    bzip2-1.0.8                |       h7b6447c_0          78 KB\n",
            "    ca-certificates-2020.1.1   |                0         125 KB\n",
            "    cairo-1.14.12              |       h8948797_3         906 KB\n",
            "    certifi-2019.11.28         |           py37_0         153 KB\n",
            "    conda-4.8.2                |           py37_0         2.8 MB\n",
            "    fontconfig-2.13.0          |       h9420a91_0         227 KB\n",
            "    freetype-2.9.1             |       h8a8886c_1         550 KB\n",
            "    glib-2.63.1                |       h5a9c865_0         2.9 MB\n",
            "    icu-58.2                   |       h9c2bf20_1        10.3 MB\n",
            "    intel-openmp-2020.0        |              166         756 KB\n",
            "    jpeg-9b                    |       h024ee3a_2         214 KB\n",
            "    libboost-1.67.0            |       h46d08c1_4        13.0 MB\n",
            "    libgfortran-ng-7.3.0       |       hdf63c60_0        1006 KB\n",
            "    libpng-1.6.37              |       hbc83047_0         278 KB\n",
            "    libtiff-4.1.0              |       h2733197_0         447 KB\n",
            "    libuuid-1.0.3              |       h1bed415_2          15 KB\n",
            "    libxcb-1.13                |       h1bed415_1         421 KB\n",
            "    libxml2-2.9.9              |       hea5a465_1         1.6 MB\n",
            "    mkl-2020.0                 |              166       128.9 MB\n",
            "    mkl-service-2.3.0          |   py37he904b0f_0         218 KB\n",
            "    mkl_fft-1.0.15             |   py37ha843d7b_0         154 KB\n",
            "    mkl_random-1.1.0           |   py37hd6b4f25_0         321 KB\n",
            "    numpy-1.18.1               |   py37h4f9e942_0           5 KB\n",
            "    numpy-base-1.18.1          |   py37hde5b4d6_1         4.2 MB\n",
            "    olefile-0.46               |           py37_0          50 KB\n",
            "    openssl-1.1.1d             |       h7b6447c_4         2.5 MB\n",
            "    pandas-1.0.1               |   py37h0573a6f_0         8.5 MB\n",
            "    pcre-8.43                  |       he6710b0_0         209 KB\n",
            "    pillow-7.0.0               |   py37hb39fc2d_0         598 KB\n",
            "    pixman-0.38.0              |       h7b6447c_0         364 KB\n",
            "    py-boost-1.67.0            |   py37h04863e7_4         278 KB\n",
            "    python-dateutil-2.8.1      |             py_0         224 KB\n",
            "    pytz-2019.3                |             py_0         231 KB\n",
            "    rdkit-2019.09.3.0          |   py37hc20afe1_1        23.7 MB  rdkit\n",
            "    zstd-1.3.7                 |       h0b5b093_0         401 KB\n",
            "    ------------------------------------------------------------\n",
            "                                           Total:       206.4 MB\n",
            "\n",
            "The following NEW packages will be INSTALLED:\n",
            "\n",
            "  blas               pkgs/main/linux-64::blas-1.0-mkl\n",
            "  bzip2              pkgs/main/linux-64::bzip2-1.0.8-h7b6447c_0\n",
            "  cairo              pkgs/main/linux-64::cairo-1.14.12-h8948797_3\n",
            "  fontconfig         pkgs/main/linux-64::fontconfig-2.13.0-h9420a91_0\n",
            "  freetype           pkgs/main/linux-64::freetype-2.9.1-h8a8886c_1\n",
            "  glib               pkgs/main/linux-64::glib-2.63.1-h5a9c865_0\n",
            "  icu                pkgs/main/linux-64::icu-58.2-h9c2bf20_1\n",
            "  intel-openmp       pkgs/main/linux-64::intel-openmp-2020.0-166\n",
            "  jpeg               pkgs/main/linux-64::jpeg-9b-h024ee3a_2\n",
            "  libboost           pkgs/main/linux-64::libboost-1.67.0-h46d08c1_4\n",
            "  libgfortran-ng     pkgs/main/linux-64::libgfortran-ng-7.3.0-hdf63c60_0\n",
            "  libpng             pkgs/main/linux-64::libpng-1.6.37-hbc83047_0\n",
            "  libtiff            pkgs/main/linux-64::libtiff-4.1.0-h2733197_0\n",
            "  libuuid            pkgs/main/linux-64::libuuid-1.0.3-h1bed415_2\n",
            "  libxcb             pkgs/main/linux-64::libxcb-1.13-h1bed415_1\n",
            "  libxml2            pkgs/main/linux-64::libxml2-2.9.9-hea5a465_1\n",
            "  mkl                pkgs/main/linux-64::mkl-2020.0-166\n",
            "  mkl-service        pkgs/main/linux-64::mkl-service-2.3.0-py37he904b0f_0\n",
            "  mkl_fft            pkgs/main/linux-64::mkl_fft-1.0.15-py37ha843d7b_0\n",
            "  mkl_random         pkgs/main/linux-64::mkl_random-1.1.0-py37hd6b4f25_0\n",
            "  numpy              pkgs/main/linux-64::numpy-1.18.1-py37h4f9e942_0\n",
            "  numpy-base         pkgs/main/linux-64::numpy-base-1.18.1-py37hde5b4d6_1\n",
            "  olefile            pkgs/main/linux-64::olefile-0.46-py37_0\n",
            "  pandas             pkgs/main/linux-64::pandas-1.0.1-py37h0573a6f_0\n",
            "  pcre               pkgs/main/linux-64::pcre-8.43-he6710b0_0\n",
            "  pillow             pkgs/main/linux-64::pillow-7.0.0-py37hb39fc2d_0\n",
            "  pixman             pkgs/main/linux-64::pixman-0.38.0-h7b6447c_0\n",
            "  py-boost           pkgs/main/linux-64::py-boost-1.67.0-py37h04863e7_4\n",
            "  python-dateutil    pkgs/main/noarch::python-dateutil-2.8.1-py_0\n",
            "  pytz               pkgs/main/noarch::pytz-2019.3-py_0\n",
            "  rdkit              rdkit/linux-64::rdkit-2019.09.3.0-py37hc20afe1_1\n",
            "  zstd               pkgs/main/linux-64::zstd-1.3.7-h0b5b093_0\n",
            "\n",
            "The following packages will be UPDATED:\n",
            "\n",
            "  ca-certificates                              2019.10.16-0 --> 2020.1.1-0\n",
            "  certifi                                  2019.9.11-py37_0 --> 2019.11.28-py37_0\n",
            "  conda                                       4.7.12-py37_0 --> 4.8.2-py37_0\n",
            "  openssl                                 1.1.1d-h7b6447c_3 --> 1.1.1d-h7b6447c_4\n",
            "\n",
            "\n",
            "\n",
            "Downloading and Extracting Packages\n",
            "numpy-1.18.1         | 5 KB      | : 100% 1.0/1 [00:00<00:00,  8.48it/s]\n",
            "pytz-2019.3          | 231 KB    | : 100% 1.0/1 [00:00<00:00,  6.36it/s]\n",
            "olefile-0.46         | 50 KB     | : 100% 1.0/1 [00:00<00:00, 17.45it/s]\n",
            "conda-4.8.2          | 2.8 MB    | : 100% 1.0/1 [00:00<00:00,  5.08it/s]\n",
            "pandas-1.0.1         | 8.5 MB    | : 100% 1.0/1 [00:00<00:00,  1.87it/s]\n",
            "intel-openmp-2020.0  | 756 KB    | : 100% 1.0/1 [00:00<00:00, 13.40it/s]\n",
            "pixman-0.38.0        | 364 KB    | : 100% 1.0/1 [00:00<00:00, 14.50it/s]\n",
            "python-dateutil-2.8. | 224 KB    | : 100% 1.0/1 [00:00<00:00, 16.67it/s]\n",
            "mkl-2020.0           | 128.9 MB  | : 100% 1.0/1 [00:06<00:00,  6.19s/it]               \n",
            "bzip2-1.0.8          | 78 KB     | : 100% 1.0/1 [00:00<00:00, 15.83it/s]\n",
            "openssl-1.1.1d       | 2.5 MB    | : 100% 1.0/1 [00:00<00:00,  5.46it/s]\n",
            "freetype-2.9.1       | 550 KB    | : 100% 1.0/1 [00:00<00:00, 11.66it/s]\n",
            "numpy-base-1.18.1    | 4.2 MB    | : 100% 1.0/1 [00:00<00:00,  3.04it/s]\n",
            "rdkit-2019.09.3.0    | 23.7 MB   | : 100% 1.0/1 [00:05<00:00, 261.43s/it]               \n",
            "ca-certificates-2020 | 125 KB    | : 100% 1.0/1 [00:00<00:00, 13.90it/s]\n",
            "pillow-7.0.0         | 598 KB    | : 100% 1.0/1 [00:00<00:00, 11.89it/s]\n",
            "libxml2-2.9.9        | 1.6 MB    | : 100% 1.0/1 [00:00<00:00,  6.61it/s]\n",
            "mkl-service-2.3.0    | 218 KB    | : 100% 1.0/1 [00:00<00:00, 10.06it/s]\n",
            "cairo-1.14.12        | 906 KB    | : 100% 1.0/1 [00:00<00:00,  6.86it/s]\n",
            "libtiff-4.1.0        | 447 KB    | : 100% 1.0/1 [00:00<00:00, 11.77it/s]\n",
            "libuuid-1.0.3        | 15 KB     | : 100% 1.0/1 [00:00<00:00, 15.49it/s]\n",
            "zstd-1.3.7           | 401 KB    | : 100% 1.0/1 [00:00<00:00, 11.61it/s]\n",
            "libboost-1.67.0      | 13.0 MB   | : 100% 1.0/1 [00:02<00:00,  2.26s/it]              \n",
            "mkl_random-1.1.0     | 321 KB    | : 100% 1.0/1 [00:00<00:00, 14.41it/s]\n",
            "icu-58.2             | 10.3 MB   | : 100% 1.0/1 [00:00<00:00,  1.55it/s]               \n",
            "pcre-8.43            | 209 KB    | : 100% 1.0/1 [00:00<00:00, 14.24it/s]\n",
            "mkl_fft-1.0.15       | 154 KB    | : 100% 1.0/1 [00:00<00:00, 14.89it/s]\n",
            "libgfortran-ng-7.3.0 | 1006 KB   | : 100% 1.0/1 [00:00<00:00, 10.72it/s]\n",
            "libpng-1.6.37        | 278 KB    | : 100% 1.0/1 [00:00<00:00, 12.98it/s]\n",
            "py-boost-1.67.0      | 278 KB    | : 100% 1.0/1 [00:00<00:00, 10.88it/s]\n",
            "glib-2.63.1          | 2.9 MB    | : 100% 1.0/1 [00:00<00:00,  4.44it/s]\n",
            "certifi-2019.11.28   | 153 KB    | : 100% 1.0/1 [00:00<00:00, 12.68it/s]\n",
            "libxcb-1.13          | 421 KB    | : 100% 1.0/1 [00:00<00:00, 11.03it/s]\n",
            "fontconfig-2.13.0    | 227 KB    | : 100% 1.0/1 [00:00<00:00, 13.91it/s]\n",
            "jpeg-9b              | 214 KB    | : 100% 1.0/1 [00:00<00:00, 13.61it/s]\n",
            "blas-1.0             | 6 KB      | : 100% 1.0/1 [00:00<00:00, 16.79it/s]\n",
            "Preparing transaction: | \b\b/ \b\b- \b\b\\ \b\b| \b\b/ \b\b- \b\b\\ \b\b| \b\bdone\n",
            "Verifying transaction: - \b\b\\ \b\b| \b\b/ \b\b- \b\b\\ \b\b| \b\b/ \b\b- \b\b\\ \b\b| \b\b/ \b\b- \b\b\\ \b\b| \b\b/ \b\b- \b\b\\ \b\b| \b\b/ \b\b- \b\b\\ \b\b| \b\b/ \b\b- \b\b\\ \b\b| \b\bdone\n",
            "Executing transaction: - \b\b\\ \b\b| \b\b/ \b\b- \b\b\\ \b\b| \b\b/ \b\b- \b\b\\ \b\b| \b\b/ \b\b- \b\b\\ \b\b| \b\b/ \b\b- \b\b\\ \b\b| \b\b/ \b\b- \b\b\\ \b\b| \b\b/ \b\b- \b\b\\ \b\b| \b\b/ \b\b- \b\b\\ \b\b| \b\b/ \b\b- \b\b\\ \b\b| \b\b/ \b\b- \b\b\\ \b\b| \b\b/ \b\b- \b\b\\ \b\b| \b\b/ \b\b- \b\b\\ \b\b| \b\b/ \b\b- \b\b\\ \b\b| \b\b/ \b\b- \b\b\\ \b\b| \b\b/ \b\b- \b\b\\ \b\b| \b\b/ \b\b- \b\b\\ \b\b| \b\b/ \b\b- \b\b\\ \b\b| \b\b/ \b\b- \b\b\\ \b\b| \b\b/ \b\b- \b\b\\ \b\b| \b\b/ \b\b- \b\b\\ \b\b| \b\b/ \b\b- \b\b\\ \b\b| \b\b/ \b\b- \b\b\\ \b\b| \b\b/ \b\b- \b\b\\ \b\b| \b\b/ \b\b- \b\b\\ \b\b| \b\b/ \b\b- \b\b\\ \b\b| \b\b/ \b\b- \b\b\\ \b\b| \b\b/ \b\b- \b\b\\ \b\b| \b\b/ \b\b- \b\b\\ \b\b| \b\b/ \b\b- \b\b\\ \b\b| \b\b/ \b\b- \b\b\\ \b\b| \b\b/ \b\b- \b\b\\ \b\b| \b\b/ \b\b- \b\b\\ \b\b| \b\b/ \b\b- \b\b\\ \b\b| \b\b/ \b\b- \b\b\\ \b\b| \b\b/ \b\b- \b\b\\ \b\b| \b\b/ \b\b- \b\b\\ \b\b| \b\b/ \b\b- \b\b\\ \b\b| \b\b/ \b\b- \b\b\\ \b\b| \b\b/ \b\b- \b\b\\ \b\b| \b\b/ \b\b- \b\b\\ \b\b| \b\b/ \b\b- \b\b\\ \b\b| \b\b/ \b\b- \b\b\\ \b\b| \b\b/ \b\b- \b\b\\ \b\b| \b\b/ \b\b- \b\b\\ \b\b| \b\b/ \b\b- \b\b\\ \b\b| \b\b/ \b\b- \b\b\\ \b\b| \b\b/ \b\b- \b\b\\ \b\b| \b\b/ \b\b- \b\b\\ \b\b| \b\b/ \b\b- \b\b\\ \b\b| \b\b/ \b\b- \b\b\\ \b\b| \b\b/ \b\b- \b\b\\ \b\b| \b\b/ \b\b- \b\b\\ \b\b| \b\b/ \b\b- \b\b\\ \b\b| \b\b/ \b\b- \b\b\\ \b\b| \b\b/ \b\b- \b\b\\ \b\b| \b\b/ \b\b- \b\b\\ \b\b| \b\b/ \b\b- \b\b\\ \b\b| \b\b/ \b\b- \b\b\\ \b\b| \b\b/ \b\b- \b\b\\ \b\b| \b\b/ \b\b- \b\b\\ \b\b| \b\b/ \b\b- \b\b\\ \b\b| \b\b/ \b\b- \b\b\\ \b\b| \b\b/ \b\b- \b\b\\ \b\b| \b\b/ \b\b- \b\b\\ \b\b| \b\b/ \b\b- \b\b\\ \b\b| \b\b/ \b\b- \b\b\\ \b\b| \b\b/ \b\b- \b\b\\ \b\b| \b\b/ \b\b- \b\b\\ \b\b| \b\b/ \b\b- \b\b\\ \b\b| \b\b/ \b\b- \b\b\\ \b\b| \b\b/ \b\b- \b\b\\ \b\b| \b\b/ \b\b- \b\b\\ \b\b| \b\b/ \b\b- \b\b\\ \b\b| \b\b/ \b\b- \b\b\\ \b\b| \b\b/ \b\b- \b\b\\ \b\b| \b\b/ \b\b- \b\b\\ \b\b| \b\b/ \b\b- \b\b\\ \b\b| \b\b/ \b\b- \b\b\\ \b\b| \b\b/ \b\b- \b\b\\ \b\b| \b\b/ \b\b- \b\b\\ \b\b| \b\b/ \b\b- \b\b\\ \b\b| \b\b/ \b\b- \b\bdone\n"
          ],
          "name": "stdout"
        }
      ]
    },
    {
      "cell_type": "code",
      "metadata": {
        "id": "riO4mHxgDHOf",
        "colab_type": "code",
        "colab": {
          "base_uri": "https://localhost:8080/",
          "height": 85
        },
        "outputId": "73a6e4b0-2e5c-410e-aa64-3006e109283c"
      },
      "source": [
        "# install SELFIES \n",
        "pip install selfies"
      ],
      "execution_count": 3,
      "outputs": [
        {
          "output_type": "stream",
          "text": [
            "Collecting selfies\n",
            "  Downloading https://files.pythonhosted.org/packages/01/67/f8f04deb5bc03b0ff8c7c994802620e62257373c56169485c7465c82235e/selfies-0.2.4-py3-none-any.whl\n",
            "Installing collected packages: selfies\n",
            "Successfully installed selfies-0.2.4\n"
          ],
          "name": "stdout"
        }
      ]
    },
    {
      "cell_type": "code",
      "metadata": {
        "id": "Rhs1LX7ryVk5",
        "colab_type": "code",
        "colab": {
          "base_uri": "https://localhost:8080/",
          "height": 102
        },
        "outputId": "ff8bcac1-34a6-424b-e013-56cad2212b0c"
      },
      "source": [
        "# install Huggingface tokenizers\n",
        "pip install tokenizers"
      ],
      "execution_count": 87,
      "outputs": [
        {
          "output_type": "stream",
          "text": [
            "Collecting tokenizers\n",
            "\u001b[?25l  Downloading https://files.pythonhosted.org/packages/02/58/a229b18e4b10d14fc5df7e0d4227e04a81ef43a6fe22d1e53d9d81c5ca9d/tokenizers-0.5.0-cp37-cp37m-manylinux1_x86_64.whl (5.7MB)\n",
            "\u001b[K     |████████████████████████████████| 5.7MB 2.7MB/s \n",
            "\u001b[?25hInstalling collected packages: tokenizers\n",
            "Successfully installed tokenizers-0.5.0\n"
          ],
          "name": "stdout"
        }
      ]
    },
    {
      "cell_type": "markdown",
      "metadata": {
        "id": "b0iHGYUU-1eG",
        "colab_type": "text"
      },
      "source": [
        "## Testual Chemical Data\n",
        "\n",
        "(1) SMILES\n",
        "> SMILES is a text-based form of describing molecular structures and reactions. SMILES strings can be obtained by traversing the 2D graph representation of the compound.\n",
        "\n",
        "(2) SELFIES\n",
        "> Self-referencing embedding strings (SELFIES) is an alternative sequence-based representation that is built upon ‘semantically constrained graphs’. Each symbol in a SELFIES sequence indicates a recursive Chomsky-2 type grammar and can thus be used to convert the sequence representation to a unique graph. SELFIES use SMILES syntax to extract words that will correspond to semantically valid graphs"
      ]
    },
    {
      "cell_type": "code",
      "metadata": {
        "id": "2b4Xdb6V-f6g",
        "colab_type": "code",
        "colab": {
          "base_uri": "https://localhost:8080/",
          "height": 51
        },
        "outputId": "f9e8b356-3ba7-4336-feb6-fa68dd6b8f11"
      },
      "source": [
        "from rdkit import Chem\n",
        "from rdkit.Chem import Draw\n",
        "from rdkit.Chem.Draw import IPythonConsole\n",
        "import rdkit\n",
        "print(f'RDKit Version: {rdkit.__version__}')\n",
        "\n",
        "import selfies\n",
        "print(f'SELFIES Version: {selfies.__version__}')  "
      ],
      "execution_count": 54,
      "outputs": [
        {
          "output_type": "stream",
          "text": [
            "RDKit Version: 2019.09.3\n",
            "SELFIES Version: v0.2.4\n"
          ],
          "name": "stdout"
        }
      ]
    },
    {
      "cell_type": "markdown",
      "metadata": {
        "id": "qbGfjmFMF88-",
        "colab_type": "text"
      },
      "source": [
        "Example: Ampicillin\n"
      ]
    },
    {
      "cell_type": "code",
      "metadata": {
        "id": "3cIH1Fz1DrPg",
        "colab_type": "code",
        "colab": {
          "base_uri": "https://localhost:8080/",
          "height": 167
        },
        "outputId": "336a9738-422c-483f-d0e7-7e29f1687c7c"
      },
      "source": [
        "smiles1 = 'CC1([C@@H](N2[C@H](S1)[C@@H](C2=O)NC(=O)[C@@H](C3=CC=CC=C3)N)C(=O)O)C'\n",
        "mol = Chem.MolFromSmiles(smiles1)\n",
        "mol"
      ],
      "execution_count": 55,
      "outputs": [
        {
          "output_type": "execute_result",
          "data": {
            "image/png": "[encoded data removed]",
            "text/plain": [
              "<rdkit.Chem.rdchem.Mol at 0x7fc3891f1d50>"
            ]
          },
          "metadata": {
            "tags": []
          },
          "execution_count": 55
        }
      ]
    },
    {
      "cell_type": "code",
      "metadata": {
        "id": "7tPFED29D6uR",
        "colab_type": "code",
        "colab": {
          "base_uri": "https://localhost:8080/",
          "height": 54
        },
        "outputId": "cd46b73f-062a-43f6-8923-1a620da1e9c5"
      },
      "source": [
        "selfies1 = selfies.encoder(smiles1)\n",
        "selfies1"
      ],
      "execution_count": 56,
      "outputs": [
        {
          "output_type": "execute_result",
          "data": {
            "text/plain": [
              "'[C][C][Branch2_3][Ring1][epsilon][C@@Hexpl][Branch2_3][epsilon][=O][N][C@Hexpl][Branch1_3][Ring2][S][Ring1][Ring2][C@@Hexpl][Branch1_3][Branch1_1][C][Ring1][Ring2][=O][N][C][Branch1_3][epsilon][=O][C@@Hexpl][Branch1_3][Branch2_2][C][=C][C][=C][C][=C][Ring1][Branch1_1][N][C][Branch1_3][epsilon][=O][O][C]'"
            ]
          },
          "metadata": {
            "tags": []
          },
          "execution_count": 56
        }
      ]
    },
    {
      "cell_type": "markdown",
      "metadata": {
        "id": "ue9YNYV5AZSB",
        "colab_type": "text"
      },
      "source": [
        "## Identification of words and tokens\n",
        "\n",
        "> Similar to words in natural languages, we can assume that the ‘words’ of biochemical sequences convey significant information (e.g., folding, function, etc.) about the entities. In this regard, each compound or protein is analogous to a sentence, and each compound–protein unit is analogous to a word. Therefore, Therefore, if we can decipher the grammar of biochemical languages it would be easier to model bio- and chem-informatics problems. However, protein and chemical words are not explicitly known and different approaches are needed to extract syntactically and semantically meaningful biochemical word units from these textual information sources (i.e., sequences). Here, we review some of the most common ‘tokenization’ approaches used to determine the words of biochemical languages.\n"
      ]
    },
    {
      "cell_type": "markdown",
      "metadata": {
        "id": "_crAIB7bGVVB",
        "colab_type": "text"
      },
      "source": [
        "### *Atom-wise tokenization*\n",
        "\n",
        "The atom-vise tokneization is widely used in cheminformatics.\n"
      ]
    },
    {
      "cell_type": "code",
      "metadata": {
        "id": "lNeKIIVmG_gg",
        "colab_type": "code",
        "colab": {}
      },
      "source": [
        "import re\n",
        "from functools import reduce\n",
        "\n",
        "def atomwise_tokenizer(smiles):\n",
        "    regex = '(\\[[^\\[\\]]{1,10}\\])' #split the sentence with '[]'\n",
        "    char_list = re.split(regex, smiles)\n",
        "    tokens = []            \n",
        "          \n",
        "    for char in char_list:\n",
        "        if char.startswith('['):\n",
        "            tokens.append(str(char))\n",
        "        else:\n",
        "            chars = [unit for unit in char]\n",
        "            [tokens.append(i) for i in chars]\n",
        "                \n",
        "    #fix the 'Br' be splited into 'B' and 'r'\n",
        "    if 'B' in tokens:\n",
        "        for index, tok in enumerate(tokens):\n",
        "            if tok == 'B':\n",
        "                if index < len(tokens)-1: # make sure 'B' is not the last character\n",
        "                    if tokens[index+1] == 'r':\n",
        "                        tokens[index: index+2] = [reduce(lambda i, j: i + j, tokens[index : index+2])]\n",
        "        \n",
        "    #fix the 'Cl' be splited into 'C' and 'l'\n",
        "    if 'l' in tokens:\n",
        "        for index, tok in enumerate(tokens):\n",
        "            if tok == 'l':\n",
        "                if tokens[index-1] == 'C':\n",
        "                    tokens[index-1: index+1] = [reduce(lambda i, j: i + j, tokens[index-1 : index+1])]\n",
        "    return tokens"
      ],
      "execution_count": 0,
      "outputs": []
    },
    {
      "cell_type": "code",
      "metadata": {
        "id": "FifWuix6KSR0",
        "colab_type": "code",
        "colab": {}
      },
      "source": [
        "smiles = ['CC[N+](C)(C)Cc1ccccc1Br.Cc2ccc(cc2)[S]([O-])(=O)=O',\n",
        "          'CC(C)C[C@@H]1N2C(=O)[C@](NC(=O)[C@H]3CN(C)[C@@H]4Cc5c(Br)[nH]c6cccc(C4=C3)c56)(O[C@@]2(O)[C@@H]7CCCN7C1=O)C(C)C',\n",
        "          'C2=C(C1C(NC(C1)=O)=O)C=CC=C2Cl']"
      ],
      "execution_count": 0,
      "outputs": []
    },
    {
      "cell_type": "code",
      "metadata": {
        "id": "KsQoMixDIagk",
        "colab_type": "code",
        "colab": {}
      },
      "source": [
        "tokens_smiles = []\n",
        "for smi in smiles:\n",
        "    tokens_smiles.append(atomwise_tokenizer(smi))"
      ],
      "execution_count": 0,
      "outputs": []
    },
    {
      "cell_type": "code",
      "metadata": {
        "id": "-vNccrUVLWN7",
        "colab_type": "code",
        "colab": {
          "base_uri": "https://localhost:8080/",
          "height": 54
        },
        "outputId": "dd125335-29bf-4d8a-9e9f-ccc04a2b4d89"
      },
      "source": [
        "print(tokens_smiles[1])"
      ],
      "execution_count": 60,
      "outputs": [
        {
          "output_type": "stream",
          "text": [
            "['C', 'C', '(', 'C', ')', 'C', '[C@@H]', '1', 'N', '2', 'C', '(', '=', 'O', ')', '[C@]', '(', 'N', 'C', '(', '=', 'O', ')', '[C@H]', '3', 'C', 'N', '(', 'C', ')', '[C@@H]', '4', 'C', 'c', '5', 'c', '(', 'Br', ')', '[nH]', 'c', '6', 'c', 'c', 'c', 'c', '(', 'C', '4', '=', 'C', '3', ')', 'c', '5', '6', ')', '(', 'O', '[C@@]', '2', '(', 'O', ')', '[C@@H]', '7', 'C', 'C', 'C', 'N', '7', 'C', '1', '=', 'O', ')', 'C', '(', 'C', ')', 'C']\n"
          ],
          "name": "stdout"
        }
      ]
    },
    {
      "cell_type": "code",
      "metadata": {
        "id": "cPbTrZNyNOZe",
        "colab_type": "code",
        "colab": {
          "base_uri": "https://localhost:8080/",
          "height": 34
        },
        "outputId": "5698c094-5b98-4be6-8804-32cb45675b98"
      },
      "source": [
        "print(tokens_smiles[2])"
      ],
      "execution_count": 61,
      "outputs": [
        {
          "output_type": "stream",
          "text": [
            "['C', '2', '=', 'C', '(', 'C', '1', 'C', '(', 'N', 'C', '(', 'C', '1', ')', '=', 'O', ')', '=', 'O', ')', 'C', '=', 'C', 'C', '=', 'C', '2', 'Cl']\n"
          ],
          "name": "stdout"
        }
      ]
    },
    {
      "cell_type": "code",
      "metadata": {
        "id": "4OOiQN--JmQ7",
        "colab_type": "code",
        "colab": {}
      },
      "source": [
        "token_selfies = []\n",
        "for smi in smiles:\n",
        "    sel = selfies.encoder(smi)\n",
        "    token_selfies.append(atomwise_tokenizer(sel))"
      ],
      "execution_count": 0,
      "outputs": []
    },
    {
      "cell_type": "code",
      "metadata": {
        "id": "ogLhnirAMmGc",
        "colab_type": "code",
        "colab": {
          "base_uri": "https://localhost:8080/",
          "height": 54
        },
        "outputId": "c6791807-26c3-40f0-cd93-e86601d328f6"
      },
      "source": [
        "print(token_selfies[1])"
      ],
      "execution_count": 63,
      "outputs": [
        {
          "output_type": "stream",
          "text": [
            "['[C]', '[C]', '[Branch1_3]', '[epsilon]', '[C]', '[C]', '[C@@Hexpl]', '[N]', '[C]', '[Branch1_3]', '[epsilon]', '[=O]', '[C@expl]', '[Branch2_2]', '[epsilon]', '[#C]', '[N]', '[C]', '[Branch1_3]', '[epsilon]', '[=O]', '[C@Hexpl]', '[C]', '[N]', '[Branch1_3]', '[epsilon]', '[C]', '[C@@Hexpl]', '[C]', '[c]', '[c]', '[Branch1_3]', '[epsilon]', '[Br]', '[nHexpl]', '[c]', '[c]', '[c]', '[c]', '[c]', '[Branch1_3]', '[Branch1_3]', '[C]', '[Ring1]', '[F]', '[=C]', '[Ring1]', '[#N]', '[c]', '[Ring1]', '[F]', '[Ring1]', '[Branch1_3]', '[Branch1_3]', '[=S]', '[O]', '[C@@expl]', '[Ring2]', '[epsilon]', '[Branch2_1]', '[Branch1_3]', '[epsilon]', '[O]', '[C@@Hexpl]', '[C]', '[C]', '[C]', '[N]', '[Ring1]', '[Ring2]', '[C]', '[Ring2]', '[epsilon]', '[#N]', '[=O]', '[C]', '[Branch1_3]', '[epsilon]', '[C]', '[C]']\n"
          ],
          "name": "stdout"
        }
      ]
    },
    {
      "cell_type": "code",
      "metadata": {
        "id": "hYJbM5DBNrDl",
        "colab_type": "code",
        "colab": {
          "base_uri": "https://localhost:8080/",
          "height": 54
        },
        "outputId": "5f7f7f8b-ca16-465a-e270-5925eb15e1fb"
      },
      "source": [
        "print(token_selfies[2])"
      ],
      "execution_count": 64,
      "outputs": [
        {
          "output_type": "stream",
          "text": [
            "['[C]', '[=C]', '[Branch1_3]', '[N]', '[C]', '[C]', '[Branch1_2]', '[Branch2_2]', '[N]', '[C]', '[Branch1_2]', '[Ring2]', '[C]', '[Ring1]', '[Ring2]', '[=O]', '[=O]', '[C]', '[=C]', '[C]', '[=C]', '[Ring1]', '[O]', '[Cl]']\n"
          ],
          "name": "stdout"
        }
      ]
    },
    {
      "cell_type": "markdown",
      "metadata": {
        "id": "EgHhxFZJEqJo",
        "colab_type": "text"
      },
      "source": [
        "### *k-mers (n-grams)*\n",
        "> One of the simplest approaches in NLP to extract a small\n",
        "language unit is to use k-mers, also known as n-grams. k-mers indicate k consecutive **overlapping** characters that are extracted from the sequence with a sliding window approach.\n",
        "\n",
        "The k-mers tokenization method has two parameters: the length of sub-units *k* and the *stride* between k-mers. ***Stride*** is defined as the frame shift between k-mers relative to the sequence being tokenized. \n",
        "\n",
        "For example, we have a sequence 'ABCDEFGH', we want to to tokenize the sequence with a k-mer size of 4 and the following stride values:\n",
        "- stride 1: ABCD BCDE CDEF DEFG EFGH\n",
        "- stride 2: ABCD CDEF EFGH\n",
        "- stride 4: ABCD EFGH\n",
        "\n",
        "Note: When stride > 1, it may result in the length of the last k-mer of the sequence is less than *k* and usually the last k-mer will be removed in this situation. This is not a resonable method for SMILES and SELFIES.\n"
      ]
    },
    {
      "cell_type": "code",
      "metadata": {
        "id": "G_gLLpWIOQjZ",
        "colab_type": "code",
        "colab": {}
      },
      "source": [
        "def kmer_tokenizer(smiles, ngram=4, stride=1, remove_last = False):\n",
        "    units = atomwise_tokenizer(smiles) #collect all the atom-wise tokens from the SMILES\n",
        "    if ngram == 1:\n",
        "        tokens = units\n",
        "    else: \n",
        "        tokens = [tokens_to_mer(units[i:i+ngram]) for i in range(0, len(units), stride) if len(units[i:i+ngram]) == ngram]\n",
        "    \n",
        "    if remove_last:\n",
        "        if len(tokens[-1]) < ngram: #truncate last whole k-mer if the length of the last k-mers is less than ngram.\n",
        "            tokens = tokens[:-1]\n",
        "    return tokens\n",
        "\n",
        "def tokens_to_mer(toks):\n",
        "    return ''.join(toks)"
      ],
      "execution_count": 0,
      "outputs": []
    },
    {
      "cell_type": "code",
      "metadata": {
        "id": "jtcDQOFtrRxD",
        "colab_type": "code",
        "colab": {
          "base_uri": "https://localhost:8080/",
          "height": 54
        },
        "outputId": "ffd75b89-b35a-499a-ec11-3cf63ac2a4f7"
      },
      "source": [
        "print(kmer_tokenizer(smiles1, ngram=3))"
      ],
      "execution_count": 85,
      "outputs": [
        {
          "output_type": "stream",
          "text": [
            "['CC1', 'C1(', '1([C@@H]', '([C@@H](', '[C@@H](N', '(N2', 'N2[C@H]', '2[C@H](', '[C@H](S', '(S1', 'S1)', '1)[C@@H]', ')[C@@H](', '[C@@H](C', '(C2', 'C2=', '2=O', '=O)', 'O)N', ')NC', 'NC(', 'C(=', '(=O', '=O)', 'O)[C@@H]', ')[C@@H](', '[C@@H](C', '(C3', 'C3=', '3=C', '=CC', 'CC=', 'C=C', '=CC', 'CC=', 'C=C', '=C3', 'C3)', '3)N', ')N)', 'N)C', ')C(', 'C(=', '(=O', '=O)', 'O)O', ')O)', 'O)C']\n"
          ],
          "name": "stdout"
        }
      ]
    },
    {
      "cell_type": "code",
      "metadata": {
        "id": "A66AiQJyozw0",
        "colab_type": "code",
        "colab": {
          "base_uri": "https://localhost:8080/",
          "height": 54
        },
        "outputId": "64ec31c6-2b67-4d84-b990-4feb0d8e3102"
      },
      "source": [
        "print(kmer_tokenizer(selfies1, ngram=3))"
      ],
      "execution_count": 86,
      "outputs": [
        {
          "output_type": "stream",
          "text": [
            "['[C][C][Branch2_3]', '[C][Branch2_3][Ring1]', '[Branch2_3][Ring1][epsilon]', '[Ring1][epsilon][C@@Hexpl]', '[epsilon][C@@Hexpl][Branch2_3]', '[C@@Hexpl][Branch2_3][epsilon]', '[Branch2_3][epsilon][=O]', '[epsilon][=O][N]', '[=O][N][C@Hexpl]', '[N][C@Hexpl][Branch1_3]', '[C@Hexpl][Branch1_3][Ring2]', '[Branch1_3][Ring2][S]', '[Ring2][S][Ring1]', '[S][Ring1][Ring2]', '[Ring1][Ring2][C@@Hexpl]', '[Ring2][C@@Hexpl][Branch1_3]', '[C@@Hexpl][Branch1_3][Branch1_1]', '[Branch1_3][Branch1_1][C]', '[Branch1_1][C][Ring1]', '[C][Ring1][Ring2]', '[Ring1][Ring2][=O]', '[Ring2][=O][N]', '[=O][N][C]', '[N][C][Branch1_3]', '[C][Branch1_3][epsilon]', '[Branch1_3][epsilon][=O]', '[epsilon][=O][C@@Hexpl]', '[=O][C@@Hexpl][Branch1_3]', '[C@@Hexpl][Branch1_3][Branch2_2]', '[Branch1_3][Branch2_2][C]', '[Branch2_2][C][=C]', '[C][=C][C]', '[=C][C][=C]', '[C][=C][C]', '[=C][C][=C]', '[C][=C][Ring1]', '[=C][Ring1][Branch1_1]', '[Ring1][Branch1_1][N]', '[Branch1_1][N][C]', '[N][C][Branch1_3]', '[C][Branch1_3][epsilon]', '[Branch1_3][epsilon][=O]', '[epsilon][=O][O]', '[=O][O][C]']\n"
          ],
          "name": "stdout"
        }
      ]
    },
    {
      "cell_type": "markdown",
      "metadata": {
        "id": "6t9hdUEVrZDU",
        "colab_type": "text"
      },
      "source": [
        "### *Longest common subsequences* and *Maximum common substructure*\n",
        "\n",
        "These two approaches are more useful for detecting chemical similarity.\n",
        "\n"
      ]
    },
    {
      "cell_type": "markdown",
      "metadata": {
        "id": "h5x75VR_sNZx",
        "colab_type": "text"
      },
      "source": [
        "### *Minimum description length Minimum*\n",
        "\n",
        "> Minimum description length (MDL) is an unsupervised compression-based word segmentation technique in which words of an unknown language are detected by compressing the text corpus.\n",
        "\n"
      ]
    },
    {
      "cell_type": "markdown",
      "metadata": {
        "id": "Upo-zJRdfxAz",
        "colab_type": "text"
      },
      "source": [
        "### *Byte-pair encoding*\n",
        "\n",
        "> [Byte-pair encoding (BPE)](https://www.aclweb.org/anthology/P16-1162/) generates words based on high-frequency subsequences starting from frequent characters. "
      ]
    },
    {
      "cell_type": "code",
      "metadata": {
        "id": "UPrAVHrZyeVD",
        "colab_type": "code",
        "colab": {
          "base_uri": "https://localhost:8080/",
          "height": 80
        },
        "outputId": "75409565-e399-4030-87ec-beae07ac557a"
      },
      "source": [
        "url = 'https://raw.githubusercontent.com/XinhaoLi74/molds/master/clean_data/ESOL.csv'\n",
        "\n",
        "esol = pd.read_csv(url)\n",
        "esol.head(1)"
      ],
      "execution_count": 180,
      "outputs": [
        {
          "output_type": "execute_result",
          "data": {
            "text/html": [
              "<div>\n",
              "<style scoped>\n",
              "    .dataframe tbody tr th:only-of-type {\n",
              "        vertical-align: middle;\n",
              "    }\n",
              "\n",
              "    .dataframe tbody tr th {\n",
              "        vertical-align: top;\n",
              "    }\n",
              "\n",
              "    .dataframe thead th {\n",
              "        text-align: right;\n",
              "    }\n",
              "</style>\n",
              "<table border=\"1\" class=\"dataframe\">\n",
              "  <thead>\n",
              "    <tr style=\"text-align: right;\">\n",
              "      <th></th>\n",
              "      <th>smiles</th>\n",
              "      <th>logSolubility</th>\n",
              "    </tr>\n",
              "  </thead>\n",
              "  <tbody>\n",
              "    <tr>\n",
              "      <th>0</th>\n",
              "      <td>N#CC(OC1OC(COC2OC(CO)C(O)C(O)C2O)C(O)C(O)C1O)c...</td>\n",
              "      <td>-0.77</td>\n",
              "    </tr>\n",
              "  </tbody>\n",
              "</table>\n",
              "</div>"
            ],
            "text/plain": [
              "                                              smiles  logSolubility\n",
              "0  N#CC(OC1OC(COC2OC(CO)C(O)C(O)C2O)C(O)C(O)C1O)c...          -0.77"
            ]
          },
          "metadata": {
            "tags": []
          },
          "execution_count": 180
        }
      ]
    },
    {
      "cell_type": "code",
      "metadata": {
        "id": "m-orokxqK-Nq",
        "colab_type": "code",
        "colab": {}
      },
      "source": [
        "with open('smiles_toy.smi', 'w') as filehandle:\n",
        "    filehandle.writelines(\"%s\\n\" % smi for smi in esol.smiles)"
      ],
      "execution_count": 0,
      "outputs": []
    },
    {
      "cell_type": "code",
      "metadata": {
        "id": "S6-gZTaBKvY3",
        "colab_type": "code",
        "colab": {}
      },
      "source": [
        "from tokenizers import Tokenizer, models, pre_tokenizers, decoders, trainers\n",
        "\n",
        "# Initialize a tokenizer\n",
        "tokenizer = Tokenizer(models.BPE.empty())\n",
        "\n",
        "# Customize pre-tokenization and decoding\n",
        "tokenizer.pre_tokenizer = pre_tokenizers.ByteLevel(add_prefix_space=False)\n",
        "tokenizer.decoder = decoders.ByteLevel()\n",
        "\n",
        "# And then train\n",
        "trainer = trainers.BpeTrainer(vocab_size=1000, min_frequency=2)"
      ],
      "execution_count": 0,
      "outputs": []
    },
    {
      "cell_type": "code",
      "metadata": {
        "id": "vDydLHxuLHzL",
        "colab_type": "code",
        "colab": {
          "base_uri": "https://localhost:8080/",
          "height": 51
        },
        "outputId": "564ff960-6d81-48dd-fc01-5c1a15df9bdc"
      },
      "source": [
        "%%time\n",
        "tokenizer.train(trainer, ['smiles_toy.smi'])"
      ],
      "execution_count": 186,
      "outputs": [
        {
          "output_type": "stream",
          "text": [
            "CPU times: user 13.7 ms, sys: 76 µs, total: 13.8 ms\n",
            "Wall time: 16.4 ms\n"
          ],
          "name": "stdout"
        }
      ]
    },
    {
      "cell_type": "code",
      "metadata": {
        "id": "mUw7uFSZ41bl",
        "colab_type": "code",
        "colab": {
          "base_uri": "https://localhost:8080/",
          "height": 34
        },
        "outputId": "59cef6cc-2a3f-47f8-b51b-0f8bb23ce859"
      },
      "source": [
        "tokenizer.get_vocab_size()"
      ],
      "execution_count": 187,
      "outputs": [
        {
          "output_type": "execute_result",
          "data": {
            "text/plain": [
              "171"
            ]
          },
          "metadata": {
            "tags": []
          },
          "execution_count": 187
        }
      ]
    },
    {
      "cell_type": "code",
      "metadata": {
        "id": "cc10-cZf7zex",
        "colab_type": "code",
        "colab": {
          "base_uri": "https://localhost:8080/",
          "height": 1000
        },
        "outputId": "fc44d4cf-e6c9-4945-b98a-3e259acb698d"
      },
      "source": [
        "for i in range(tokenizer.get_vocab_size()):\n",
        "    print(i, tokenizer.id_to_token(i))"
      ],
      "execution_count": 188,
      "outputs": [
        {
          "output_type": "stream",
          "text": [
            "0 #\n",
            "1 (\n",
            "2 )\n",
            "3 +\n",
            "4 -\n",
            "5 /\n",
            "6 1\n",
            "7 2\n",
            "8 3\n",
            "9 4\n",
            "10 5\n",
            "11 6\n",
            "12 7\n",
            "13 =\n",
            "14 B\n",
            "15 C\n",
            "16 F\n",
            "17 H\n",
            "18 I\n",
            "19 N\n",
            "20 O\n",
            "21 P\n",
            "22 S\n",
            "23 [\n",
            "24 \\\n",
            "25 ]\n",
            "26 c\n",
            "27 l\n",
            "28 n\n",
            "29 o\n",
            "30 r\n",
            "31 s\n",
            "32 Ċ\n",
            "33 cc\n",
            "34 CC\n",
            "35 ccc\n",
            "36 (=\n",
            "37 Cl\n",
            "38 CCCC\n",
            "39 ccccc\n",
            "40 CCC\n",
            "41 OC\n",
            "42 NC\n",
            "43 )(\n",
            "44 nc\n",
            "45 Cc\n",
            "46 cccc\n",
            "47 Oc\n",
            "48 Nc\n",
            "49 12\n",
            "50 +]\n",
            "51 -]\n",
            "52 )[\n",
            "53 )=\n",
            "54 Br\n",
            "55 OCC\n",
            "56 CO\n",
            "57 -])\n",
            "58 ([\n",
            "59 Clc\n",
            "60 +](=\n",
            "61 (-\n",
            "62 CCCCCCCC\n",
            "63 21\n",
            "64 nH\n",
            "65 CCCCC\n",
            "66 CN\n",
            "67 COC\n",
            "68 CCO\n",
            "69 CCN\n",
            "70 COc\n",
            "71 SC\n",
            "72 CCCCCC\n",
            "73 )(=\n",
            "74 cnc\n",
            "75 ncc\n",
            "76 +]([\n",
            "77 CCOC\n",
            "78 ClC\n",
            "79 =[\n",
            "80 CCOP\n",
            "81 CNC\n",
            "82 CCc\n",
            "83 cccnc\n",
            "84 CCCCCCC\n",
            "85 oc\n",
            "86 CCl\n",
            "87 COP\n",
            "88 Cn\n",
            "89 SCC\n",
            "90 NS\n",
            "91 ncccc\n",
            "92 Brc\n",
            "93 Sc\n",
            "94 CCNc\n",
            "95 43\n",
            "96 OCN\n",
            "97 nnc\n",
            "98 CCCOC\n",
            "99 SP\n",
            "100 CCOc\n",
            "101 CCCO\n",
            "102 CCCCCCCCC\n",
            "103 CCCCCCCCCCCCCCCC\n",
            "104 cncn\n",
            "105 nccnc\n",
            "106 CSC\n",
            "107 CSc\n",
            "108 Fc\n",
            "109 ccnc\n",
            "110 CCCCOC\n",
            "111 ncnc\n",
            "112 ccccn\n",
            "113 cncnc\n",
            "114 )-\n",
            "115 32\n",
            "116 34\n",
            "117 FC\n",
            "118 NCC\n",
            "119 OP\n",
            "120 cn\n",
            "121 sc\n",
            "122 ccncc\n",
            "123 CCS\n",
            "124 CCCl\n",
            "125 CCCCO\n",
            "126 CCCCc\n",
            "127 CCCN\n",
            "128 OCc\n",
            "129 CON\n",
            "130 CCCCCCCCCC\n",
            "131 23\n",
            "132 CBr\n",
            "133 ON\n",
            "134 SCCCC\n",
            "135 SSC\n",
            "136 occc\n",
            "137 CCNC\n",
            "138 CCBr\n",
            "139 CCOCC\n",
            "140 CCCCN\n",
            "141 CCCCl\n",
            "142 OCO\n",
            "143 NCc\n",
            "144 CCCCCOC\n",
            "145 cnn\n",
            "146 13\n",
            "147 24\n",
            "148 65\n",
            "149 CI\n",
            "150 CNc\n",
            "151 COCC\n",
            "152 Ic\n",
            "153 NNc\n",
            "154 OS\n",
            "155 OCCCC\n",
            "156 OCCC\n",
            "157 OCCCCCC\n",
            "158 SCCC\n",
            "159 cncc\n",
            "160 CCSC\n",
            "161 CCSCC\n",
            "162 ClCC\n",
            "163 CCCCCCO\n",
            "164 CCCc\n",
            "165 ncn\n",
            "166 ncncc\n",
            "167 BrC\n",
            "168 OCCO\n",
            "169 CCCCCCc\n",
            "170 CCCCCCCO\n"
          ],
          "name": "stdout"
        }
      ]
    },
    {
      "cell_type": "code",
      "metadata": {
        "id": "5j5t6T8N6GOn",
        "colab_type": "code",
        "colab": {
          "base_uri": "https://localhost:8080/",
          "height": 71
        },
        "outputId": "f962bc19-3e4b-41de-a645-586ffc976295"
      },
      "source": [
        "# Now we can encode\n",
        "print(f'We are going to tokenize: {esol.smiles[0]}')\n",
        "encoded = tokenizer.encode(esol.smiles[0])\n",
        "print(f'Tokens: {encoded.tokens}')"
      ],
      "execution_count": 190,
      "outputs": [
        {
          "output_type": "stream",
          "text": [
            "We are going to tokenize: N#CC(OC1OC(COC2OC(CO)C(O)C(O)C2O)C(O)C(O)C1O)c1ccccc1\n",
            "Tokens: ['N', '#', 'CC', '(', 'OC', '1', 'OC', '(', 'COC', '2', 'OC', '(', 'CO', ')', 'C', '(', 'O', ')', 'C', '(', 'O', ')', 'C', '2', 'O', ')', 'C', '(', 'O', ')', 'C', '(', 'O', ')', 'C', '1', 'O', ')', 'c', '1', 'ccccc', '1']\n"
          ],
          "name": "stdout"
        }
      ]
    }
  ]
}