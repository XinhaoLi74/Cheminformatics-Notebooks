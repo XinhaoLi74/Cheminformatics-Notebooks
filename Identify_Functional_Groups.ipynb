{
 "cells": [
  {
   "cell_type": "markdown",
   "metadata": {},
   "source": [
    "# 1. Implemetation of `Identify Functional Groups` algorithm.\n",
    "\n",
    "> The algorithm was developed by **Peter Ertl** ([paper](https://jcheminf.biomedcentral.com/articles/10.1186/s13321-017-0225-z)). The algorithm was originally implemented using the Novartis in-house cheminformatics system written in Java. **Richard Hall** and **Guillaume Godin** later Implemented it in python with RDKit. The code can be found at [here](https://github.com/rdkit/rdkit/tree/master/Contrib/IFG).\n",
    "\n",
    "## Algorithm:\n",
    " - Mark all heteroatoms in a molecule, including halogens.\n",
    " - Mark four specific **carbon** atoms:\n",
    "     - atoms connected by non-aromatic double or triple bond to any heteroatom.\n",
    "     - atoms in nonaromatic carbon-carbon double or triple bonds\n",
    "     - acetal carbons, *i.e.,* `sp3` carbons connected to two or more oxygens, nitrogens or sulfurs; there `O`, `N`, `S` atoms mush have only single bonds.\n",
    "     - all atoms in oxirane, aziridine and thiirane rings (such rings are traditionally considered to be functional groups due to their high reactivity).\n",
    " - Merge all connected marked atoms to a single functional group (FG).\n",
    " - Extract FGs also with connected unmarked carbon atoms, these carbon atoms are not part of the FG itself, but form its enviroment."
   ]
  },
  {
   "cell_type": "code",
   "execution_count": 1,
   "metadata": {},
   "outputs": [
    {
     "name": "stderr",
     "output_type": "stream",
     "text": [
      "RDKit WARNING: [10:33:08] Enabling RDKit 2019.09.2 jupyter extensions\n"
     ]
    }
   ],
   "source": [
    "from rdkit import Chem\n",
    "from collections import namedtuple\n",
    "\n",
    "from rdkit.Chem import Draw\n",
    "from rdkit.Chem.Draw import IPythonConsole"
   ]
  },
  {
   "cell_type": "code",
   "execution_count": 1,
   "metadata": {},
   "outputs": [
    {
     "ename": "NameError",
     "evalue": "name 'Chem' is not defined",
     "output_type": "error",
     "traceback": [
      "\u001b[0;31m---------------------------------------------------------------------------\u001b[0m",
      "\u001b[0;31mNameError\u001b[0m                                 Traceback (most recent call last)",
      "\u001b[0;32m<ipython-input-1-ccd9af749d19>\u001b[0m in \u001b[0;36m<module>\u001b[0;34m\u001b[0m\n\u001b[1;32m     15\u001b[0m \u001b[0;31m# atoms connected by non-aromatic double or triple bond to any heteroatom\u001b[0m\u001b[0;34m\u001b[0m\u001b[0;34m\u001b[0m\u001b[0;34m\u001b[0m\u001b[0m\n\u001b[1;32m     16\u001b[0m \u001b[0;31m# c=O should not match (see fig1, box 15).  I think using A instead of * should sort that out?\u001b[0m\u001b[0;34m\u001b[0m\u001b[0;34m\u001b[0m\u001b[0;34m\u001b[0m\u001b[0m\n\u001b[0;32m---> 17\u001b[0;31m \u001b[0mPATT_DOUBLE_TRIPLE\u001b[0m \u001b[0;34m=\u001b[0m \u001b[0mChem\u001b[0m\u001b[0;34m.\u001b[0m\u001b[0mMolFromSmarts\u001b[0m\u001b[0;34m(\u001b[0m\u001b[0;34m'A=,#[!#6]'\u001b[0m\u001b[0;34m)\u001b[0m\u001b[0;34m\u001b[0m\u001b[0;34m\u001b[0m\u001b[0m\n\u001b[0m\u001b[1;32m     18\u001b[0m \u001b[0;31m# atoms in non aromatic carbon-carbon double or triple bonds\u001b[0m\u001b[0;34m\u001b[0m\u001b[0;34m\u001b[0m\u001b[0;34m\u001b[0m\u001b[0m\n\u001b[1;32m     19\u001b[0m \u001b[0mPATT_CC_DOUBLE_TRIPLE\u001b[0m \u001b[0;34m=\u001b[0m \u001b[0mChem\u001b[0m\u001b[0;34m.\u001b[0m\u001b[0mMolFromSmarts\u001b[0m\u001b[0;34m(\u001b[0m\u001b[0;34m'C=,#C'\u001b[0m\u001b[0;34m)\u001b[0m\u001b[0;34m\u001b[0m\u001b[0;34m\u001b[0m\u001b[0m\n",
      "\u001b[0;31mNameError\u001b[0m: name 'Chem' is not defined"
     ]
    }
   ],
   "source": [
    "def merge(mol, marked, aset):\n",
    "    bset = set()\n",
    "    for idx in aset:\n",
    "        atom = mol.GetAtomWithIdx(idx)\n",
    "        for nbr in atom.GetNeighbors():\n",
    "            jdx = nbr.GetIdx()\n",
    "            if jdx in marked:\n",
    "                marked.remove(jdx)\n",
    "                bset.add(jdx)\n",
    "    if not bset:\n",
    "        return\n",
    "    merge(mol, marked, bset)\n",
    "    aset.update(bset)\n",
    "\n",
    "# atoms connected by non-aromatic double or triple bond to any heteroatom\n",
    "# c=O should not match (see fig1, box 15).  I think using A instead of * should sort that out?\n",
    "PATT_DOUBLE_TRIPLE = Chem.MolFromSmarts('A=,#[!#6]')\n",
    "# atoms in non aromatic carbon-carbon double or triple bonds\n",
    "PATT_CC_DOUBLE_TRIPLE = Chem.MolFromSmarts('C=,#C')\n",
    "# acetal carbons, i.e. sp3 carbons connected to tow or more oxygens, nitrogens or sulfurs; these O, N or S atoms must have only single bonds\n",
    "PATT_ACETAL = Chem.MolFromSmarts('[CX4](-[O,N,S])-[O,N,S]')\n",
    "# all atoms in oxirane, aziridine and thiirane rings\n",
    "PATT_OXIRANE_ETC = Chem.MolFromSmarts('[O,N,S]1CC1')\n",
    "\n",
    "PATT_TUPLE = (PATT_DOUBLE_TRIPLE, PATT_CC_DOUBLE_TRIPLE, PATT_ACETAL, PATT_OXIRANE_ETC)\n",
    "    \n",
    "def identify_functional_groups(mol):\n",
    "    marked = set()\n",
    "#mark all heteroatoms in a molecule, including halogens\n",
    "    for atom in mol.GetAtoms():\n",
    "        if atom.GetAtomicNum() not in (6,1): # would we ever have hydrogen?\n",
    "            marked.add(atom.GetIdx())\n",
    "\n",
    "#mark the four specific types of carbon atom\n",
    "    for patt in PATT_TUPLE:\n",
    "        for path in mol.GetSubstructMatches(patt):\n",
    "            for atomindex in path:\n",
    "                marked.add(atomindex)\n",
    "\n",
    "#merge all connected marked atoms to a single FG\n",
    "    groups = []\n",
    "    while marked:\n",
    "        grp = set([marked.pop()])\n",
    "        merge(mol, marked, grp)\n",
    "        groups.append(grp)\n",
    "\n",
    "#extract also connected unmarked carbon atoms\n",
    "    ifg = namedtuple('IFG', ['atomIds', 'atoms', 'type'])\n",
    "    ifgs = []\n",
    "    for g in groups:\n",
    "        uca = set()\n",
    "        for atomidx in g:\n",
    "            for n in mol.GetAtomWithIdx(atomidx).GetNeighbors():\n",
    "                if n.GetAtomicNum() == 6:\n",
    "                    uca.add(n.GetIdx())\n",
    "        ifgs.append(ifg(atomIds=tuple(list(g)), atoms=Chem.MolFragmentToSmiles(mol, g, canonical=True), type=Chem.MolFragmentToSmiles(mol, g.union(uca),canonical=True)))\n",
    "    return ifgs"
   ]
  },
  {
   "cell_type": "code",
   "execution_count": 3,
   "metadata": {},
   "outputs": [
    {
     "data": {
      "image/png": "[encoded data removed]",
      "text/plain": [
       "<rdkit.Chem.rdchem.Mol at 0x7f1de55e3d50>"
      ]
     },
     "execution_count": 3,
     "metadata": {},
     "output_type": "execute_result"
    }
   ],
   "source": [
    "#test \n",
    "smiles = 'CNC1=Nc2ccc(Cl)cc2C(=N(=O)C1)c3ccccc3'\n",
    "mol = Chem.MolFromSmiles(smiles)\n",
    "mol"
   ]
  },
  {
   "cell_type": "code",
   "execution_count": 4,
   "metadata": {},
   "outputs": [],
   "source": [
    "fgs = identify_functional_groups(mol)"
   ]
  },
  {
   "cell_type": "markdown",
   "metadata": {},
   "source": [
    "The result is a list of FGs. Each FG is a three-term tuple `(atom ID, SMILES of FG, SMILES of FG with enviroment)`. "
   ]
  },
  {
   "cell_type": "code",
   "execution_count": 5,
   "metadata": {},
   "outputs": [
    {
     "data": {
      "text/plain": [
       "[IFG(atomIds=(1, 2, 3), atoms='N=CN', type='cN=C(C)NC'),\n",
       " IFG(atomIds=(8,), atoms='Cl', type='cCl'),\n",
       " IFG(atomIds=(11, 12, 13), atoms='C=[N+][O-]', type='cC(c)=[N+](C)[O-]')]"
      ]
     },
     "execution_count": 5,
     "metadata": {},
     "output_type": "execute_result"
    }
   ],
   "source": [
    "fgs"
   ]
  },
  {
   "cell_type": "markdown",
   "metadata": {},
   "source": [
    "The generated SMILES are not always be able to convert back to RDKit Mol."
   ]
  },
  {
   "cell_type": "code",
   "execution_count": 40,
   "metadata": {},
   "outputs": [
    {
     "name": "stderr",
     "output_type": "stream",
     "text": [
      "RDKit ERROR: [10:36:25] non-ring atom 0 marked aromatic\n"
     ]
    }
   ],
   "source": [
    "Chem.MolFromSmiles(fgs[0].type)"
   ]
  },
  {
   "cell_type": "markdown",
   "metadata": {},
   "source": [
    "The above code does not cover the `generalization scheme` (see below) proposed originally by **Ertl**. **ToNorberto Sánchez-Cruz** further completed the [code](https://github.com/DIFACQUIM/IFG_General) with a fragmentation approach considering the retainment of parent carbons and hydrogens proposed originally, were the remaining carbon atoms are replaced by dummy atoms. This implementation works over a SMILES string and returns a list with the canonical SMILES of the FGs identified in the molecule. \n",
    "\n",
    "> FGs, particularly those with several connection points, may be present in numerous forms differing by varia- tion in their environment. The attachment points may be unsubstituted (i.e. the valences are filled by hydrogens) or connected to aliphatic or aromatic carbons with large number of possible combinations. \n",
    "\n",
    "> E.g., a simple amide group with 3 connection points may form 18 such variations (two connections on nitrogen are considered to be symmetrical here). \n",
    "\n",
    "> It would be desirable to merge FGs based on the important “central” moiety."
   ]
  },
  {
   "cell_type": "code",
   "execution_count": 41,
   "metadata": {},
   "outputs": [],
   "source": [
    "# Based on the work of Richard Hall and Guillaume Godin\n",
    "# Additions or modifications are indicated with ##\n",
    "\n",
    "from rdkit import Chem\n",
    "from rdkit.Chem import rdmolops\n",
    "\n",
    "def merge(mol, marked, aset):\n",
    "    bset = set()\n",
    "    for idx in aset:\n",
    "        atom = mol.GetAtomWithIdx(idx)\n",
    "        for nbr in atom.GetNeighbors():\n",
    "            jdx = nbr.GetIdx()\n",
    "            if jdx in marked:\n",
    "                marked.remove(jdx)\n",
    "                bset.add(jdx)\n",
    "    if not bset:\n",
    "        return\n",
    "    merge(mol, marked, bset)\n",
    "    aset.update(bset)\n",
    "\n",
    "## Heteroatoms connected to an aliphatic atom (by single, double or triple bond), to avoid single aromatic heteroatoms\n",
    "PATT_HETERO = Chem.MolFromSmarts(\"[!#6;!#1]\")\n",
    "# atoms connected by non-aromatic double or triple bond to any heteroatom\n",
    "# c=O should not match (see fig1, box 15).  I think using A instead of * should sort that out?\n",
    "## Using C explicitly indicates non-aromatic carbons, we changed this beacuse we use explicit hydrogens in the molecule, that would be matched by A \n",
    "PATT_DOUBLE_TRIPLE = Chem.MolFromSmarts('C=,#[!#6]')\n",
    "# atoms in non aromatic carbon-carbon double or triple bonds\n",
    "PATT_CC_DOUBLE_TRIPLE = Chem.MolFromSmarts('C=,#C')\n",
    "# acetal carbons, i.e. sp3 carbons connected to tow or more oxygens, nitrogens or sulfurs; these O, N or S atoms must have only single bonds\n",
    "PATT_ACETAL = Chem.MolFromSmarts('[CX4](-[O,N,S])-[O,N,S]')\n",
    "# all atoms in oxirane, aziridine and thiirane rings\n",
    "PATT_OXIRANE_ETC = Chem.MolFromSmarts('[O,N,S]1CC1')\n",
    "\n",
    "PATT_TUPLE = (PATT_HETERO, PATT_DOUBLE_TRIPLE, PATT_CC_DOUBLE_TRIPLE, PATT_ACETAL, PATT_OXIRANE_ETC)\n",
    "\n",
    "def identify_functional_groups_gs(smi):\n",
    "    ## We decided to start from a SMILES and add explicit hydrogens inside the function\n",
    "    mol = Chem.MolFromSmiles(smi)\n",
    "    mol = rdmolops.AddHs(mol)\n",
    "    try:\n",
    "        marked = set()\n",
    "    ## Since heteroatoms are included in PATT_TUPLE, we remove the first part of the original function \n",
    "        for patt in PATT_TUPLE:\n",
    "            for path in mol.GetSubstructMatches(patt):\n",
    "                for atomindex in path:\n",
    "                    marked.add(atomindex)\n",
    "\n",
    "    #merge all connected marked atoms to a single FG\n",
    "        groups = []\n",
    "        while marked:\n",
    "            grp = set([marked.pop()])\n",
    "            merge(mol, marked, grp)\n",
    "            groups.append(grp)\n",
    "        groups = [list(x) for x in groups]\n",
    "        \n",
    "    ## It seems that the initial filtering of heteroatoms was not enough, so we add this to remove groups with only aromatic atoms\n",
    "        for g in groups:\n",
    "            group_aromaticity = set([mol.GetAtomWithIdx(idx).GetIsAromatic() for idx in g])\n",
    "            if group_aromaticity == {True}:\n",
    "                groups.remove(g)\n",
    "        \n",
    "    ## Identify bonds to break and hydrogens to keep for every FG\n",
    "        bonds = []\n",
    "        labels = []\n",
    "        for g in groups:\n",
    "            group_bonds = []\n",
    "            group_labels = []\n",
    "            for idx in g:\n",
    "                atom = mol.GetAtomWithIdx(idx)\n",
    "                \n",
    "                ## Carbon atoms\n",
    "                if atom.GetAtomicNum() == 6:\n",
    "                    for nbr in atom.GetNeighbors():\n",
    "                        ## Carbonyl groups to disciminate between aldehydes and ketones\n",
    "                        if nbr.GetAtomicNum() == 8 and str(mol.GetBondBetweenAtoms(idx,nbr.GetIdx()).GetBondType()) == \"DOUBLE\":\n",
    "                            PreserveH = True\n",
    "                            break\n",
    "                        else:\n",
    "                            PreserveH = False\n",
    "                    if PreserveH == True:\n",
    "                        for nbr in atom.GetNeighbors():\n",
    "                            jdx = nbr.GetIdx()\n",
    "                            if jdx not in g and nbr.GetAtomicNum() != 1:\n",
    "                                group_bonds.append(mol.GetBondBetweenAtoms(idx,jdx).GetIdx())\n",
    "                                group_labels.append((0,0))\n",
    "                    else:\n",
    "                        for nbr in atom.GetNeighbors():\n",
    "                            jdx = nbr.GetIdx()\n",
    "                            if jdx not in g:\n",
    "                                group_bonds.append(mol.GetBondBetweenAtoms(idx,jdx).GetIdx())\n",
    "                                group_labels.append((0,0))\n",
    "                ## Nitrogen atoms\n",
    "                elif atom.GetAtomicNum() == 7:\n",
    "                    ## To discriminate between anilines and amines (primary, secondary, etc)\n",
    "                    if len(g) == 1:\n",
    "                        neigh_atn = [x.GetAtomicNum() for x in atom.GetNeighbors() if x.GetAtomicNum() != 1]\n",
    "                        if neigh_atn.count(6) == 1:\n",
    "                            for nbr in atom.GetNeighbors():\n",
    "                                jdx = nbr.GetIdx()\n",
    "                                if jdx not in g and nbr.GetAtomicNum() != 1:\n",
    "                                    group_bonds.append(mol.GetBondBetweenAtoms(idx,jdx).GetIdx())\n",
    "                                    if nbr.GetIsAromatic() == True:\n",
    "                                        group_labels.append((1,1))\n",
    "                                    else:\n",
    "                                        group_labels.append((0,0))\n",
    "                        else:\n",
    "                            for nbr in atom.GetNeighbors():\n",
    "                                jdx = nbr.GetIdx()\n",
    "                                if jdx not in g and nbr.GetAtomicNum() != 1:\n",
    "                                    group_bonds.append(mol.GetBondBetweenAtoms(idx,jdx).GetIdx())\n",
    "                                    group_labels.append((0,0))\n",
    "                    else:\n",
    "                        for nbr in atom.GetNeighbors():\n",
    "                            jdx = nbr.GetIdx()\n",
    "                            if jdx not in g:\n",
    "                                group_bonds.append(mol.GetBondBetweenAtoms(idx,jdx).GetIdx())\n",
    "                                group_labels.append((0,0))\n",
    "\n",
    "                ## Oxygen atoms\n",
    "                elif atom.GetAtomicNum() == 8:\n",
    "                    ## To discriminate between alcohols from phenols and esthers from carboxylic acids\n",
    "                    if len(g) == 1:\n",
    "                        neigh_atn = [x.GetAtomicNum() for x in atom.GetNeighbors() if x.GetAtomicNum() != 1]\n",
    "                        if len(neigh_atn) == 1 and neigh_atn.count(6) == 1:\n",
    "                            for nbr in atom.GetNeighbors():\n",
    "                                jdx = nbr.GetIdx()\n",
    "                                if jdx not in g and (nbr.GetAtomicNum() != 1):\n",
    "                                    group_bonds.append(mol.GetBondBetweenAtoms(idx,jdx).GetIdx())\n",
    "                                    if nbr.GetIsAromatic() == True:\n",
    "                                        group_labels.append((1,1))\n",
    "                                    else:\n",
    "                                        group_labels.append((0,0))\n",
    "                        else:\n",
    "                            for nbr in atom.GetNeighbors():\n",
    "                                jdx = nbr.GetIdx()\n",
    "                                if jdx not in g and nbr.GetAtomicNum() != 1:\n",
    "                                    group_bonds.append(mol.GetBondBetweenAtoms(idx,jdx).GetIdx())\n",
    "                                    group_labels.append((0,0))                        \n",
    "                    else:\n",
    "                        for nbr in atom.GetNeighbors():\n",
    "                            jdx = nbr.GetIdx()\n",
    "                            if jdx not in g and nbr.GetAtomicNum() != 1:\n",
    "                                group_bonds.append(mol.GetBondBetweenAtoms(idx,jdx).GetIdx())\n",
    "                                group_labels.append((0,0))\n",
    "\n",
    "                ## Sulfur atoms\n",
    "                elif atom.GetAtomicNum() == 16:\n",
    "                    if len(g) == 1:\n",
    "                        for nbr in atom.GetNeighbors():\n",
    "                            jdx = nbr.GetIdx()\n",
    "                            if jdx not in g and nbr.GetAtomicNum() != 1:\n",
    "                                group_bonds.append(mol.GetBondBetweenAtoms(idx,jdx).GetIdx())\n",
    "                                group_labels.append((0,0))\n",
    "                    else:\n",
    "                        for nbr in atom.GetNeighbors():\n",
    "                            jdx = nbr.GetIdx()\n",
    "                            if jdx not in g:\n",
    "                                group_bonds.append(mol.GetBondBetweenAtoms(idx,jdx).GetIdx())\n",
    "                                group_labels.append((0,0))\n",
    "\n",
    "                else:               \n",
    "                    for nbr in atom.GetNeighbors():\n",
    "                        jdx = nbr.GetIdx()\n",
    "                        if jdx not in g:\n",
    "                            group_bonds.append(mol.GetBondBetweenAtoms(idx,jdx).GetIdx())\n",
    "                            group_labels.append((0,0))\n",
    "            labels.append(group_labels)\n",
    "            bonds.append(group_bonds)\n",
    "\n",
    "    ## Build final fragments\n",
    "        FGS_ENVS = []\n",
    "        for i in range(len(groups)):\n",
    "            Frag = Chem.FragmentOnBonds(mol,bonds[i], dummyLabels = labels[i])\n",
    "            Frags = rdmolops.GetMolFrags(Frag)\n",
    "            for j in Frags:\n",
    "                if groups[i][0] in j:\n",
    "                    FGS_ENVS.append(Chem.MolFragmentToSmiles(Frag, j, canonical=True, allHsExplicit=True))\n",
    "        FGS_ENVS = list(set(FGS_ENVS))\n",
    "        for i in FGS_ENVS:\n",
    "            if Chem.MolFromSmiles(i) == None:\n",
    "                FG = Chem.MolFromSmarts(i)\n",
    "            else:\n",
    "                FG = Chem.MolFromSmiles(i)\n",
    "            if set([atom.GetIsAromatic() for atom in FG.GetAtoms() if atom.GetSymbol() not in [\"*\",\"H\"]]) == {True}:\n",
    "                FGS_ENVS.remove(i)\n",
    "        return FGS_ENVS \n",
    "    \n",
    "    except:\n",
    "        ## When the molecules is as small as a single FG\n",
    "        FGS_ENVS = [Chem.MolToSmiles(mol, canonical=True, allHsExplicit=True)]\n",
    "        return FGS_ENVS"
   ]
  },
  {
   "cell_type": "code",
   "execution_count": 42,
   "metadata": {},
   "outputs": [
    {
     "data": {
      "image/png": "[encoded data removed]",
      "text/plain": [
       "<rdkit.Chem.rdchem.Mol at 0x7f1de4151030>"
      ]
     },
     "execution_count": 42,
     "metadata": {},
     "output_type": "execute_result"
    }
   ],
   "source": [
    "mol"
   ]
  },
  {
   "cell_type": "code",
   "execution_count": 43,
   "metadata": {},
   "outputs": [],
   "source": [
    "gs_fgs = identify_functional_groups_gs(smiles)"
   ]
  },
  {
   "cell_type": "code",
   "execution_count": 44,
   "metadata": {},
   "outputs": [
    {
     "data": {
      "text/plain": [
       "['[*][N]=[C]([*])[N]([*])[*]', '[*][C]([*])=[N+]([*])[O-]', '[*][Cl]']"
      ]
     },
     "execution_count": 44,
     "metadata": {},
     "output_type": "execute_result"
    }
   ],
   "source": [
    "gs_fgs"
   ]
  },
  {
   "cell_type": "code",
   "execution_count": 45,
   "metadata": {},
   "outputs": [
    {
     "data": {
      "image/png": "[encoded data removed]",
      "text/plain": [
       "<rdkit.Chem.rdchem.Mol at 0x7f1de4151530>"
      ]
     },
     "execution_count": 45,
     "metadata": {},
     "output_type": "execute_result"
    }
   ],
   "source": [
    "Chem.MolFromSmiles(gs_fgs[0])"
   ]
  },
  {
   "cell_type": "code",
   "execution_count": 46,
   "metadata": {},
   "outputs": [
    {
     "data": {
      "image/png": "[encoded data removed]",
      "text/plain": [
       "<rdkit.Chem.rdchem.Mol at 0x7f1de4465850>"
      ]
     },
     "execution_count": 46,
     "metadata": {},
     "output_type": "execute_result"
    }
   ],
   "source": [
    "Chem.MolFromSmiles(gs_fgs[1])"
   ]
  },
  {
   "cell_type": "code",
   "execution_count": 47,
   "metadata": {},
   "outputs": [
    {
     "data": {
      "image/png": "[encoded data removed]",
      "text/plain": [
       "<rdkit.Chem.rdchem.Mol at 0x7f1de4181530>"
      ]
     },
     "execution_count": 47,
     "metadata": {},
     "output_type": "execute_result"
    }
   ],
   "source": [
    "Chem.MolFromSmiles(gs_fgs[2])"
   ]
  },
  {
   "cell_type": "markdown",
   "metadata": {},
   "source": [
    "Merge the codes. The new code will output a list of FGs. Each FGs are represented by a four-term tuple: `(atom ID, SMILES of FG, SMILES of FG with enviroment, SMILES of FG with generalized scheme)`"
   ]
  },
  {
   "cell_type": "code",
   "execution_count": null,
   "metadata": {},
   "outputs": [],
   "source": []
  },
  {
   "cell_type": "markdown",
   "metadata": {},
   "source": [
    "## Visualization with highlights of FGs "
   ]
  },
  {
   "cell_type": "code",
   "execution_count": 12,
   "metadata": {},
   "outputs": [],
   "source": [
    "from io import BytesIO\n",
    "from PIL import Image\n",
    "from rdkit.Chem import rdDepictor\n",
    "from rdkit.Chem.Draw import rdMolDraw2D\n",
    "\n",
    "def _prepareMol(mol,kekulize):\n",
    "    mc = Chem.Mol(mol.ToBinary())\n",
    "    if kekulize:\n",
    "        try:\n",
    "            Chem.Kekulize(mc)\n",
    "        except:\n",
    "            mc = Chem.Mol(mol.ToBinary())\n",
    "    if not mc.GetNumConformers():\n",
    "        rdDepictor.Compute2DCoords(mc)\n",
    "    return mc\n",
    "\n",
    "def moltopng(mol,molSize=(450,200),kekulize=True,drawer=None,**kwargs):\n",
    "    mc = _prepareMol(mol,kekulize)\n",
    "    if drawer is None:\n",
    "        drawer = rdMolDraw2D.MolDraw2DCairo(molSize[0],molSize[1])\n",
    "    drawer.DrawMolecule(mc,**kwargs)\n",
    "    drawer.FinishDrawing()\n",
    "    sio = BytesIO(drawer.GetDrawingText())\n",
    "    return Image.open(sio)"
   ]
  },
  {
   "cell_type": "markdown",
   "metadata": {},
   "source": [
    "We want to highlights the FGs with different colors according to their types. The colors are defined by the [Python Color Constants Module](https://www.webucator.com/blog/2015/03/python-color-constants-module/)."
   ]
  },
  {
   "cell_type": "code",
   "execution_count": 13,
   "metadata": {},
   "outputs": [],
   "source": [
    "def collect_highlights(fgs):\n",
    "    highlight_atoms = []\n",
    "    highlight_colors = {}\n",
    "    \n",
    "    colors = [\n",
    "    (0.50,0.55,0.55), # azure4 for C=C and C#C,\n",
    "    (0.5,1,0), # chartreuse1 for halogens,\n",
    "    (0.1,0.55,1), #dodgerblue1 for FG contains only N and/or C,\n",
    "    (1,0.7,0.75), # deeppink1 for FG contains O but not S.\n",
    "    (1,0.93,0.55) # lightgoldenrod1 for FG contains S\n",
    "    ]\n",
    "    \n",
    "    for fg in fgs:\n",
    "        highlight_atoms += list(fg.atomIds)\n",
    "        \n",
    "        if 'C' in fg.atoms or 'c' in fg.atoms:\n",
    "            color = colors[0]\n",
    "        if 'F' in fg.atoms or 'Cl' in fg.atoms or 'Br' in fg.atoms or 'I' in fg.atoms:\n",
    "            color = colors[1]\n",
    "        if 'N' in fg.atoms or 'n' in fg.atoms:\n",
    "            color = colors[2]\n",
    "        if 'O' in fg.atoms or 'o' in fg.atoms:\n",
    "            color = colors[3]\n",
    "        if 'S' in fg.atoms or 's' in fg.atoms:\n",
    "            color = colors[4]\n",
    "        \n",
    "        for atomID in fg.atomIds:\n",
    "            highlight_colors[atomID] = color\n",
    "    return highlight_atoms, highlight_colors"
   ]
  },
  {
   "cell_type": "code",
   "execution_count": 14,
   "metadata": {},
   "outputs": [],
   "source": [
    "    colors = [\n",
    "    (131,139,139), # azure4 for C=C and C#C,\n",
    "    (127,255,0), # chartreuse1 for halogens,\n",
    "    (30,144,255), #dodgerblue1 for FG contains only N and/or C,\n",
    "    (255,20,147), # lightpink for FG contains O but not S.\n",
    "    (255,236,139) # lightgoldenrod1 for FG contains S\n",
    "    ]"
   ]
  },
  {
   "cell_type": "code",
   "execution_count": 15,
   "metadata": {},
   "outputs": [],
   "source": [
    "#test \n",
    "smiles = 'CNC1=Nc2ccc(Cl)cc2C(=N(=O)C1)c3ccccc3'\n",
    "mol = Chem.MolFromSmiles(smiles)\n",
    "fgs = identify_functional_groups(mol)\n",
    "\n",
    "FG_atoms, FG_colors = collect_highlights(fgs)\n"
   ]
  },
  {
   "cell_type": "code",
   "execution_count": 16,
   "metadata": {},
   "outputs": [
    {
     "data": {
      "text/plain": [
       "[IFG(atomIds=(1, 2, 3), atoms='N=CN', type='cN=C(C)NC'),\n",
       " IFG(atomIds=(8,), atoms='Cl', type='cCl'),\n",
       " IFG(atomIds=(11, 12, 13), atoms='C=[N+][O-]', type='cC(c)=[N+](C)[O-]')]"
      ]
     },
     "execution_count": 16,
     "metadata": {},
     "output_type": "execute_result"
    }
   ],
   "source": [
    "fgs"
   ]
  },
  {
   "cell_type": "markdown",
   "metadata": {},
   "source": [
    "The `default` highligh: all FGs are highlight in the same color."
   ]
  },
  {
   "cell_type": "code",
   "execution_count": 17,
   "metadata": {},
   "outputs": [
    {
     "data": {
      "image/png": "[encoded data removed]",
      "text/plain": [
       "<PIL.PngImagePlugin.PngImageFile image mode=RGB size=450x200 at 0x7F1DE41D5438>"
      ]
     },
     "execution_count": 17,
     "metadata": {},
     "output_type": "execute_result"
    }
   ],
   "source": [
    "moltopng(mol,highlightAtoms=FG_colors)"
   ]
  },
  {
   "cell_type": "markdown",
   "metadata": {},
   "source": [
    "Highlight FGs according to the FG types. Bonds in the FGs are not highlighted. "
   ]
  },
  {
   "cell_type": "code",
   "execution_count": 18,
   "metadata": {},
   "outputs": [
    {
     "data": {
      "image/png": "[encoded data removed]",
      "text/plain": [
       "<PIL.PngImagePlugin.PngImageFile image mode=RGB size=450x200 at 0x7F1DE414C518>"
      ]
     },
     "execution_count": 18,
     "metadata": {},
     "output_type": "execute_result"
    }
   ],
   "source": [
    "moltopng(mol,highlightAtoms=FG_atoms, highlightBonds = [], highlightAtomColors=FG_colors, highlightBondColors=FG_colors)"
   ]
  },
  {
   "cell_type": "markdown",
   "metadata": {},
   "source": [
    "**Issue**: The bonds in FGs are not highlighted in the same color as atoms."
   ]
  },
  {
   "cell_type": "code",
   "execution_count": 19,
   "metadata": {},
   "outputs": [
    {
     "data": {
      "image/png": "[encoded data removed]",
      "text/plain": [
       "<PIL.PngImagePlugin.PngImageFile image mode=RGB size=450x200 at 0x7F1DE414CAC8>"
      ]
     },
     "execution_count": 19,
     "metadata": {},
     "output_type": "execute_result"
    }
   ],
   "source": [
    "moltopng(mol,highlightAtoms=FG_atoms, highlightAtomColors=FG_colors)"
   ]
  },
  {
   "cell_type": "markdown",
   "metadata": {},
   "source": [
    "Highlight the bond color will generate **wrong** highlights. "
   ]
  },
  {
   "cell_type": "code",
   "execution_count": 20,
   "metadata": {},
   "outputs": [
    {
     "data": {
      "image/png": "[encoded data removed]",
      "text/plain": [
       "<PIL.PngImagePlugin.PngImageFile image mode=RGB size=450x200 at 0x7F1DE414C320>"
      ]
     },
     "execution_count": 20,
     "metadata": {},
     "output_type": "execute_result"
    }
   ],
   "source": [
    "moltopng(mol,highlightAtoms=FG_atoms, highlightBonds = FG_atoms, highlightAtomColors=FG_colors, highlightBondColors=FG_colors)"
   ]
  },
  {
   "cell_type": "markdown",
   "metadata": {},
   "source": [
    "## 2. Mask FGs in the SMILES"
   ]
  },
  {
   "cell_type": "markdown",
   "metadata": {},
   "source": [
    "### Method 1: Remove the FGs from the original molecules"
   ]
  },
  {
   "cell_type": "markdown",
   "metadata": {},
   "source": [
    "Some useful code:\n",
    " - http://www.rdkit.org/docs/GettingStartedInPython.html#chemical-transformations"
   ]
  },
  {
   "cell_type": "code",
   "execution_count": 21,
   "metadata": {},
   "outputs": [],
   "source": [
    "#test \n",
    "smiles = 'CNC1=Nc2ccc(Cl)cc2C(=N(=O)C1)c3ccccc3'\n",
    "mol = Chem.MolFromSmiles(smiles)\n",
    "fgs = identify_functional_groups(mol)"
   ]
  },
  {
   "cell_type": "code",
   "execution_count": 22,
   "metadata": {},
   "outputs": [
    {
     "data": {
      "image/png": "[encoded data removed]",
      "text/plain": [
       "<rdkit.Chem.rdchem.Mol at 0x7f1de4143c10>"
      ]
     },
     "execution_count": 22,
     "metadata": {},
     "output_type": "execute_result"
    }
   ],
   "source": [
    "mol"
   ]
  },
  {
   "cell_type": "code",
   "execution_count": 23,
   "metadata": {},
   "outputs": [
    {
     "data": {
      "text/plain": [
       "[IFG(atomIds=(1, 2, 3), atoms='N=CN', type='cN=C(C)NC'),\n",
       " IFG(atomIds=(8,), atoms='Cl', type='cCl'),\n",
       " IFG(atomIds=(11, 12, 13), atoms='C=[N+][O-]', type='cC(c)=[N+](C)[O-]')]"
      ]
     },
     "execution_count": 23,
     "metadata": {},
     "output_type": "execute_result"
    }
   ],
   "source": [
    "fgs"
   ]
  },
  {
   "cell_type": "markdown",
   "metadata": {},
   "source": [
    "Remove the functional group `C=[N+][O-]` from the molecule."
   ]
  },
  {
   "cell_type": "code",
   "execution_count": 24,
   "metadata": {},
   "outputs": [],
   "source": [
    "fg = Chem.MolFromSmarts('C=[N+][O-]')"
   ]
  },
  {
   "cell_type": "code",
   "execution_count": 25,
   "metadata": {},
   "outputs": [],
   "source": [
    "reduced_mol = Chem.ReplaceCore(mol,fg)"
   ]
  },
  {
   "cell_type": "markdown",
   "metadata": {},
   "source": [
    "This results in two molecular fragments."
   ]
  },
  {
   "cell_type": "code",
   "execution_count": 26,
   "metadata": {},
   "outputs": [
    {
     "data": {
      "image/png": "[encoded data removed]",
      "text/plain": [
       "<rdkit.Chem.rdchem.Mol at 0x7f1de41515d0>"
      ]
     },
     "execution_count": 26,
     "metadata": {},
     "output_type": "execute_result"
    }
   ],
   "source": [
    "reduced_mol"
   ]
  },
  {
   "cell_type": "markdown",
   "metadata": {},
   "source": [
    "`rdkit.Chem.rdmolops.ReplaceCore()` returns the fragments in a single molecule. The fragments can be split into separate molecules using `rdkit.Chem.rdmolops.GetMolFrags()` :"
   ]
  },
  {
   "cell_type": "code",
   "execution_count": 27,
   "metadata": {},
   "outputs": [],
   "source": [
    "rs = Chem.GetMolFrags(reduced_mol,asMols=True)"
   ]
  },
  {
   "cell_type": "code",
   "execution_count": 28,
   "metadata": {},
   "outputs": [
    {
     "data": {
      "text/plain": [
       "2"
      ]
     },
     "execution_count": 28,
     "metadata": {},
     "output_type": "execute_result"
    }
   ],
   "source": [
    "len(rs)"
   ]
  },
  {
   "cell_type": "code",
   "execution_count": 29,
   "metadata": {},
   "outputs": [
    {
     "data": {
      "image/png": "[encoded data removed]",
      "text/plain": [
       "<rdkit.Chem.rdchem.Mol at 0x7f1de448a348>"
      ]
     },
     "execution_count": 29,
     "metadata": {},
     "output_type": "execute_result"
    }
   ],
   "source": [
    "rs[0]"
   ]
  },
  {
   "cell_type": "code",
   "execution_count": 30,
   "metadata": {},
   "outputs": [
    {
     "data": {
      "image/png": "[encoded data removed]",
      "text/plain": [
       "<rdkit.Chem.rdchem.Mol at 0x7f1de448a8c8>"
      ]
     },
     "execution_count": 30,
     "metadata": {},
     "output_type": "execute_result"
    }
   ],
   "source": [
    "rs[1]"
   ]
  },
  {
   "cell_type": "markdown",
   "metadata": {},
   "source": [
    "Convert the molecular fragments to SMILES"
   ]
  },
  {
   "cell_type": "code",
   "execution_count": 31,
   "metadata": {},
   "outputs": [
    {
     "data": {
      "text/plain": [
       "'[1*]c1ccccc1.[2*]c1cc(Cl)ccc1N=C(C[3*])NC'"
      ]
     },
     "execution_count": 31,
     "metadata": {},
     "output_type": "execute_result"
    }
   ],
   "source": [
    "Chem.MolToSmiles(reduced_mol)"
   ]
  },
  {
   "cell_type": "code",
   "execution_count": 32,
   "metadata": {},
   "outputs": [
    {
     "data": {
      "text/plain": [
       "'[2*]c1cc(Cl)ccc1N=C(C[3*])NC'"
      ]
     },
     "execution_count": 32,
     "metadata": {},
     "output_type": "execute_result"
    }
   ],
   "source": [
    "Chem.MolToSmiles(rs[0])"
   ]
  },
  {
   "cell_type": "code",
   "execution_count": 33,
   "metadata": {},
   "outputs": [
    {
     "data": {
      "text/plain": [
       "'[1*]c1ccccc1'"
      ]
     },
     "execution_count": 33,
     "metadata": {},
     "output_type": "execute_result"
    }
   ],
   "source": [
    "Chem.MolToSmiles(rs[1])"
   ]
  },
  {
   "cell_type": "markdown",
   "metadata": {},
   "source": [
    "Note: when convert the `reduced_mol` to SMILES, the *character order* of the SMILES is different from the original SMILES of `mol`."
   ]
  },
  {
   "cell_type": "code",
   "execution_count": 34,
   "metadata": {},
   "outputs": [
    {
     "data": {
      "text/plain": [
       "'CNC1=Nc2ccc(Cl)cc2C(c2ccccc2)=[N+]([O-])C1'"
      ]
     },
     "execution_count": 34,
     "metadata": {},
     "output_type": "execute_result"
    }
   ],
   "source": [
    "Chem.MolToSmiles(mol)"
   ]
  },
  {
   "cell_type": "code",
   "execution_count": 35,
   "metadata": {},
   "outputs": [
    {
     "data": {
      "image/png": "[encoded data removed]",
      "text/plain": [
       "<rdkit.Chem.rdchem.Mol at 0x7f1de4151030>"
      ]
     },
     "execution_count": 35,
     "metadata": {},
     "output_type": "execute_result"
    }
   ],
   "source": [
    "smiles = 'Clc1ccc2c(c1)C(c1ccccc1)=[N+]([O-])CC(NC)=N2'\n",
    "mol = Chem.MolFromSmiles(smiles)\n",
    "mol"
   ]
  }
 ],
 "metadata": {
  "kernelspec": {
   "display_name": "Python 3",
   "language": "python",
   "name": "python3"
  },
  "language_info": {
   "codemirror_mode": {
    "name": "ipython",
    "version": 3
   },
   "file_extension": ".py",
   "mimetype": "text/x-python",
   "name": "python",
   "nbconvert_exporter": "python",
   "pygments_lexer": "ipython3",
   "version": "3.6.7"
  }
 },
 "nbformat": 4,
 "nbformat_minor": 4
}
