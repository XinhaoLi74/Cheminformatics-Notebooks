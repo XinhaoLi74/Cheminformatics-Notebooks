{
 "cells": [
  {
   "cell_type": "markdown",
   "metadata": {},
   "source": [
    "This is the 2nd notebook for the walkthrough of `DGL` library. In this notebook, we are going to build machine learning models that learn from graph for graph classification.  "
   ]
  },
  {
   "cell_type": "markdown",
   "metadata": {},
   "source": [
    "## 1. Tutorial: Batched graph classification with DGL"
   ]
  },
  {
   "cell_type": "markdown",
   "metadata": {},
   "source": [
    "First going throgh the [offical tutorial](https://docs.dgl.ai/tutorials/basics/4_batch.html#). This tutorial can help to learn how to use DGL to batch multiple graphs of variabe size and shape as well as train a graph neural network for a simple graph classifcaiton task."
   ]
  },
  {
   "cell_type": "markdown",
   "metadata": {},
   "source": [
    "### 1.1. Goal: Classify types of topologies\n",
    "\n",
    "The dataset we use has eight different types of graphs and each class has the smae numer of graph samples.\n",
    "\n",
    "    * class 0 : cycle graph\n",
    "    * class 1 : star graph\n",
    "    * class 2 : wheel graph\n",
    "    * class 3 : lollipop graph\n",
    "    * class 4 : hypercube graph\n",
    "    * class 5 : grid graph\n",
    "    * class 6 : clique graph\n",
    "    * class 7 : circular ladder graph"
   ]
  },
  {
   "cell_type": "code",
   "execution_count": 15,
   "metadata": {},
   "outputs": [],
   "source": [
    "import dgl\n",
    "from dgl.data import MiniGCDataset\n",
    "import matplotlib.pyplot as plt\n",
    "import networkx as nx"
   ]
  },
  {
   "cell_type": "markdown",
   "metadata": {},
   "source": [
    "Now, let's build a dataset with 80 graph samples. The number of nodes for each graph is from 10 to 20."
   ]
  },
  {
   "cell_type": "code",
   "execution_count": 2,
   "metadata": {},
   "outputs": [],
   "source": [
    "dataset = MiniGCDataset(80,10,20)"
   ]
  },
  {
   "cell_type": "code",
   "execution_count": 14,
   "metadata": {},
   "outputs": [
    {
     "name": "stdout",
     "output_type": "stream",
     "text": [
      "The graph of first sample:\n",
      "DGLGraph(num_nodes=13, num_edges=39,\n",
      "         ndata_schemes={}\n",
      "         edata_schemes={})\n",
      "The label of first sample: 0\n"
     ]
    }
   ],
   "source": [
    "graph, label = dataset[0]\n",
    "print(f'The graph of first sample:\\n{graph}')\n",
    "print(f'The label of first sample: {label}')"
   ]
  },
  {
   "cell_type": "code",
   "execution_count": 20,
   "metadata": {},
   "outputs": [
    {
     "data": {
      "image/png": "[encoded data removed]",
      "text/plain": [
       "<Figure size 432x288 with 1 Axes>"
      ]
     },
     "metadata": {},
     "output_type": "display_data"
    }
   ],
   "source": [
    "fig, ax = plt.subplots()\n",
    "nx.draw(graph.to_networkx(), ax=ax)\n",
    "ax.set_title(f'Class: {label}')\n",
    "plt.show()"
   ]
  },
  {
   "cell_type": "markdown",
   "metadata": {},
   "source": [
    "### 1.2. Form a graph mini-batch\n",
    "\n",
    "To train neural network effciently, a common practice isto batch multiple samples together to form a mini-batch. Batching fixed-shaped tensor inputs is common. For example, batching two images of size 28 * 28 gives a tensor of shape 2 * 28 * 28. By contrast, batching graph inputs has two challenges:\n",
    " - Graphs are sparse\n",
    " - Graphs can have various length (different numbers of nodes and edges)\n",
    " \n",
    "To address this, DGL provides a `dgl.batch()` API. It leverages the idea that a batch of graphs can be viewed as **a large graph that has many disjointed connected components**. \n",
    "\n",
    "Denfine the following `collate` function to form a mini-batch from a given list of graph and label pairs. The input `samples` is a list of tuple pairs *(graph, label)*."
   ]
  },
  {
   "cell_type": "code",
   "execution_count": 16,
   "metadata": {},
   "outputs": [],
   "source": [
    "def collate(samples):\n",
    "    # The input `samples` is a list of pairs\n",
    "    #  (graph, label).\n",
    "    graphs, labels = map(list, zip(*samples))\n",
    "    batched_graph = dgl.batch(graphs)\n",
    "    return batched_graph, torch.tensor(labels)"
   ]
  },
  {
   "cell_type": "markdown",
   "metadata": {},
   "source": [
    "The return type of `dgl.batch()` is still a graph. In the same way, a batch of tensors is still a tensor. This means that any code that works for one graph immediately works for a batch of graphs. More importantly, because DGL processes messages on all nodes and edges in parallel, this greatly improves efficiency."
   ]
  },
  {
   "cell_type": "markdown",
   "metadata": {},
   "source": [
    "### 1.3. Graph classifier"
   ]
  },
  {
   "cell_type": "markdown",
   "metadata": {},
   "source": [
    "There are three process in a graph classification model:\n",
    " - Graph convolution: encoding local graph and updating node features\n",
    " - Graph readout: extracting graph level representation\n",
    " - Make predictions, e.g., softmax."
   ]
  },
  {
   "cell_type": "code",
   "execution_count": 26,
   "metadata": {},
   "outputs": [],
   "source": [
    "import dgl.function as fn\n",
    "import torch\n",
    "import torch.nn as nn\n",
    "\n",
    "# sends a message of node feature h.\n",
    "msg = fn.copy_src(src = 'h', out = 'm')\n",
    "\n",
    "def reduce(nodes):\n",
    "    \"\"\"Take an average over all neighbor node features hu and use it to\n",
    "    overwrite the original node feature.\"\"\"\n",
    "    accum = torch.mean(nodes.mailbox['m'], 1)\n",
    "    return {'h': accum}\n",
    "\n",
    "class NodeApplyModule(nn.Module):\n",
    "    \"\"\"Update the node feature hv with ReLU(Whv+b).\"\"\"\n",
    "    def __init__(self, in_feats, out_feats, activation):\n",
    "        super(NodeApplyModule, self).__init__()\n",
    "        self.linear = nn.Linear(in_feats, out_feats)\n",
    "        self.activation = activation\n",
    "\n",
    "    def forward(self, node):\n",
    "        h = self.linear(node.data['h'])\n",
    "        h = self.activation(h)\n",
    "        return {'h' : h}\n",
    "\n",
    "class GCN(nn.Module):\n",
    "    def __init__(self, in_feats, out_feats, activation):\n",
    "        super(GCN, self).__init__()\n",
    "        self.apply_mod = NodeApplyModule(in_feats, out_feats, activation)\n",
    "\n",
    "    def forward(self, g, feature):\n",
    "        # Initialize the node features with h.\n",
    "        g.ndata['h'] = feature\n",
    "        g.update_all(msg, reduce)\n",
    "        g.apply_nodes(func=self.apply_mod)\n",
    "        return g.ndata.pop('h')"
   ]
  },
  {
   "cell_type": "code",
   "execution_count": 24,
   "metadata": {},
   "outputs": [],
   "source": [
    "import torch.nn.functional as F\n",
    "\n",
    "\n",
    "class Classifier(nn.Module):\n",
    "    def __init__(self, in_dim, hidden_dim, n_classes):\n",
    "        super(Classifier, self).__init__()\n",
    "\n",
    "        self.layers = nn.ModuleList([\n",
    "            GCN(in_dim, hidden_dim, F.relu),\n",
    "            GCN(hidden_dim, hidden_dim, F.relu)])\n",
    "        self.classify = nn.Linear(hidden_dim, n_classes)\n",
    "\n",
    "    def forward(self, g):\n",
    "        # For undirected graphs, in_degree is the same as\n",
    "        # out_degree.\n",
    "        h = g.in_degrees().view(-1, 1).float()\n",
    "        for conv in self.layers:\n",
    "            h = conv(g, h)\n",
    "        g.ndata['h'] = h\n",
    "        hg = dgl.mean_nodes(g, 'h')\n",
    "        return self.classify(hg)"
   ]
  },
  {
   "cell_type": "code",
   "execution_count": 27,
   "metadata": {},
   "outputs": [
    {
     "name": "stdout",
     "output_type": "stream",
     "text": [
      "Epoch 0, loss 2.1059\n",
      "Epoch 1, loss 1.9146\n",
      "Epoch 2, loss 1.8838\n",
      "Epoch 3, loss 1.7773\n",
      "Epoch 4, loss 1.6982\n",
      "Epoch 5, loss 1.6100\n",
      "Epoch 6, loss 1.5103\n",
      "Epoch 7, loss 1.4288\n",
      "Epoch 8, loss 1.3748\n",
      "Epoch 9, loss 1.2947\n",
      "Epoch 10, loss 1.2358\n",
      "Epoch 11, loss 1.2205\n",
      "Epoch 12, loss 1.1772\n",
      "Epoch 13, loss 1.0948\n",
      "Epoch 14, loss 1.0836\n",
      "Epoch 15, loss 1.0764\n",
      "Epoch 16, loss 1.0159\n",
      "Epoch 17, loss 0.9840\n",
      "Epoch 18, loss 0.9874\n",
      "Epoch 19, loss 0.9871\n",
      "Epoch 20, loss 0.9559\n",
      "Epoch 21, loss 0.9518\n",
      "Epoch 22, loss 0.9342\n",
      "Epoch 23, loss 0.9051\n",
      "Epoch 24, loss 0.8852\n",
      "Epoch 25, loss 0.8902\n",
      "Epoch 26, loss 0.8555\n",
      "Epoch 27, loss 0.8733\n",
      "Epoch 28, loss 0.8496\n",
      "Epoch 29, loss 0.8225\n",
      "Epoch 30, loss 0.8176\n",
      "Epoch 31, loss 0.8274\n",
      "Epoch 32, loss 0.7980\n",
      "Epoch 33, loss 0.7832\n",
      "Epoch 34, loss 0.7947\n",
      "Epoch 35, loss 0.8108\n",
      "Epoch 36, loss 0.7859\n",
      "Epoch 37, loss 0.7849\n",
      "Epoch 38, loss 0.7516\n",
      "Epoch 39, loss 0.7748\n",
      "Epoch 40, loss 0.7728\n",
      "Epoch 41, loss 0.7342\n",
      "Epoch 42, loss 0.7118\n",
      "Epoch 43, loss 0.7064\n",
      "Epoch 44, loss 0.7198\n",
      "Epoch 45, loss 0.6989\n",
      "Epoch 46, loss 0.6738\n",
      "Epoch 47, loss 0.6814\n",
      "Epoch 48, loss 0.6833\n",
      "Epoch 49, loss 0.6866\n",
      "Epoch 50, loss 0.6854\n",
      "Epoch 51, loss 0.6505\n",
      "Epoch 52, loss 0.6364\n",
      "Epoch 53, loss 0.6400\n",
      "Epoch 54, loss 0.6343\n",
      "Epoch 55, loss 0.6315\n",
      "Epoch 56, loss 0.6053\n",
      "Epoch 57, loss 0.5993\n",
      "Epoch 58, loss 0.6124\n",
      "Epoch 59, loss 0.6007\n",
      "Epoch 60, loss 0.5886\n",
      "Epoch 61, loss 0.6200\n",
      "Epoch 62, loss 0.5744\n",
      "Epoch 63, loss 0.5607\n",
      "Epoch 64, loss 0.5677\n",
      "Epoch 65, loss 0.5634\n",
      "Epoch 66, loss 0.5504\n",
      "Epoch 67, loss 0.5415\n",
      "Epoch 68, loss 0.5749\n",
      "Epoch 69, loss 0.5598\n",
      "Epoch 70, loss 0.5253\n",
      "Epoch 71, loss 0.5015\n",
      "Epoch 72, loss 0.4873\n",
      "Epoch 73, loss 0.4943\n",
      "Epoch 74, loss 0.4860\n",
      "Epoch 75, loss 0.4945\n",
      "Epoch 76, loss 0.4693\n",
      "Epoch 77, loss 0.4678\n",
      "Epoch 78, loss 0.4687\n",
      "Epoch 79, loss 0.4650\n"
     ]
    }
   ],
   "source": [
    "import torch.optim as optim\n",
    "from torch.utils.data import DataLoader\n",
    "\n",
    "# Create training and test sets.\n",
    "trainset = MiniGCDataset(320, 10, 20)\n",
    "testset = MiniGCDataset(80, 10, 20)\n",
    "# Use PyTorch's DataLoader and the collate function\n",
    "# defined before.\n",
    "data_loader = DataLoader(trainset, batch_size=32, shuffle=True,\n",
    "                         collate_fn=collate)\n",
    "\n",
    "# Create model\n",
    "model = Classifier(1, 256, trainset.num_classes)\n",
    "loss_func = nn.CrossEntropyLoss()\n",
    "optimizer = optim.Adam(model.parameters(), lr=0.001)\n",
    "model.train()\n",
    "\n",
    "epoch_losses = []\n",
    "for epoch in range(80):\n",
    "    epoch_loss = 0\n",
    "    for iter, (bg, label) in enumerate(data_loader):\n",
    "        prediction = model(bg)\n",
    "        loss = loss_func(prediction, label)\n",
    "        optimizer.zero_grad()\n",
    "        loss.backward()\n",
    "        optimizer.step()\n",
    "        epoch_loss += loss.detach().item()\n",
    "    epoch_loss /= (iter + 1)\n",
    "    print('Epoch {}, loss {:.4f}'.format(epoch, epoch_loss))\n",
    "    epoch_losses.append(epoch_loss)"
   ]
  },
  {
   "cell_type": "code",
   "execution_count": 28,
   "metadata": {},
   "outputs": [
    {
     "data": {
      "image/png": "[encoded data removed]",
      "text/plain": [
       "<Figure size 432x288 with 1 Axes>"
      ]
     },
     "metadata": {
      "needs_background": "light"
     },
     "output_type": "display_data"
    }
   ],
   "source": [
    "plt.title('cross entropy averaged over minibatches')\n",
    "plt.plot(epoch_losses)\n",
    "plt.show()"
   ]
  },
  {
   "cell_type": "code",
   "execution_count": 29,
   "metadata": {},
   "outputs": [
    {
     "name": "stdout",
     "output_type": "stream",
     "text": [
      "Accuracy of sampled predictions on the test set: 73.7500%\n",
      "Accuracy of argmax predictions on the test set: 93.750000%\n"
     ]
    }
   ],
   "source": [
    "model.eval()\n",
    "# Convert a list of tuples to two lists\n",
    "test_X, test_Y = map(list, zip(*testset))\n",
    "test_bg = dgl.batch(test_X)\n",
    "test_Y = torch.tensor(test_Y).float().view(-1, 1)\n",
    "probs_Y = torch.softmax(model(test_bg), 1)\n",
    "sampled_Y = torch.multinomial(probs_Y, 1)\n",
    "argmax_Y = torch.max(probs_Y, 1)[1].view(-1, 1)\n",
    "print('Accuracy of sampled predictions on the test set: {:.4f}%'.format(\n",
    "    (test_Y == sampled_Y.float()).sum().item() / len(test_Y) * 100))\n",
    "print('Accuracy of argmax predictions on the test set: {:4f}%'.format(\n",
    "    (test_Y == argmax_Y.float()).sum().item() / len(test_Y) * 100))"
   ]
  },
  {
   "cell_type": "markdown",
   "metadata": {},
   "source": [
    "In summary, when setting up the training process, we need:\n",
    " - 1. Create the training and test sets (a `class`)\n",
    " - 2. Use pytorch's `Dataloader` and the defined `collate` function.\n",
    " - 3. Define the classifier.\n",
    " - 4. define loss function.\n",
    " - 5. define optimizer\n",
    " - 6. set to `model.train()` mode.\n",
    " "
   ]
  },
  {
   "cell_type": "markdown",
   "metadata": {},
   "source": [
    "## 2. Model Overview \n",
    "\n",
    "This is a walk through of the [offical tutorial](https://docs.dgl.ai/tutorials/models/index.html). `DGL` is designed for a broad range of applications. It aims to build *state-of-the-art* models out-of-the-box.\n"
   ]
  },
  {
   "cell_type": "markdown",
   "metadata": {},
   "source": [
    "### 2.1. Graph Convolutional Network\n",
    "\n"
   ]
  },
  {
   "cell_type": "markdown",
   "metadata": {},
   "source": [
    "## 2. Predicting Molecular Activity"
   ]
  },
  {
   "cell_type": "markdown",
   "metadata": {},
   "source": [
    "**Cheminformatics** is the scientific field that develops and applies computational methods to solve chemical problems. It aims at helping chemists in investigating and understanding complex chemical biological systems and guide the experimental design and decision making. It has been applied in a wide range of case studies such as discovering novel molecules/materials with desired activities/properties, virtually screening of large chemical databases and\n",
    "predicting the outcomes of chemical reactions.\n",
    "\n",
    "One of the primary tasks of cheminformatics is to predict the physical, chemical and biological properties of a given compound. **Quantitative Structure-Property/Activity Relationship (QSPR/QSAR)** modeling relies on machine learning techniques to establish quantified links between `molecular structures` and their `experimental properties/activities`.\n",
    "\n",
    "Typical QSAR tasks are regression and classification. The regression models predict a numerical value, such as he kinase inhibition potency of a given compound. The classification models predict a category, such as a given compound is considered as toxic or not."
   ]
  },
  {
   "cell_type": "markdown",
   "metadata": {},
   "source": [
    "### Classification Models on Tox21 Dataset"
   ]
  },
  {
   "cell_type": "code",
   "execution_count": null,
   "metadata": {},
   "outputs": [],
   "source": []
  }
 ],
 "metadata": {
  "kernelspec": {
   "display_name": "Python 3",
   "language": "python",
   "name": "python3"
  },
  "language_info": {
   "codemirror_mode": {
    "name": "ipython",
    "version": 3
   },
   "file_extension": ".py",
   "mimetype": "text/x-python",
   "name": "python",
   "nbconvert_exporter": "python",
   "pygments_lexer": "ipython3",
   "version": "3.6.7"
  }
 },
 "nbformat": 4,
 "nbformat_minor": 4
}
